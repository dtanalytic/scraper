{
 "cells": [
  {
   "cell_type": "code",
   "execution_count": 1,
   "id": "ac240427-3dc4-44eb-8fe5-9c8e6500a8e9",
   "metadata": {},
   "outputs": [],
   "source": [
    "from bs4 import BeautifulSoup\n",
    "import requests\n",
    "import random\n",
    "import time\n",
    "import numpy as np\n",
    "import pandas as pd"
   ]
  },
  {
   "cell_type": "code",
   "execution_count": 12,
   "id": "69c26b68-787c-4f43-b14b-cedc73a79f96",
   "metadata": {},
   "outputs": [],
   "source": [
    "from selenium import webdriver\n",
    "browser = webdriver.Firefox()"
   ]
  },
  {
   "cell_type": "code",
   "execution_count": 14,
   "id": "953a601a-f6d0-4e72-a296-6c60d5c0f95c",
   "metadata": {},
   "outputs": [],
   "source": [
    "# browser.get('https://www.fonbet.ru/mobile/bets/mix-fights/71310/')\n",
    "browser.get('https://1xstavka.ru/line/UFC/2286134-UFC-269/')\n",
    "browser.implicitly_wait(2)\n",
    "html = browser.page_source\n",
    "\n",
    "# browser.quit()"
   ]
  },
  {
   "cell_type": "code",
   "execution_count": 41,
   "id": "efcdeb57-5208-4f47-84e0-7107810cee68",
   "metadata": {},
   "outputs": [
    {
     "name": "stdout",
     "output_type": "stream",
     "text": [
      "nothing found\n"
     ]
    }
   ],
   "source": [
    "\n",
    "from selenium import webdriver\n",
    "from selenium.webdriver.common.by import By\n",
    "from selenium.webdriver.support.ui import WebDriverWait\n",
    "from selenium.webdriver.support import expected_conditions as EC\n",
    " \n",
    "driver = webdriver.Firefox()\n",
    "# driver.implicitly_wait(2)\n",
    "driver.get(\"https://www.fonbet.ru/sports/mix-fights/35052/\")\n",
    "\n",
    "\n",
    "try:\n",
    "    elem = WebDriverWait(driver, 2).until(\n",
    "        EC.presence_of_element_located((By.ID , \"absolute-layer\")) #This is a dummy element\n",
    "    )\n",
    "except:\n",
    "    print('nothing found')\n",
    "html = driver.page_source\n",
    "\n",
    "# finally:\n",
    "#     driver.quit()"
   ]
  },
  {
   "cell_type": "code",
   "execution_count": 20,
   "id": "eebc6b82-234e-4437-9e4f-d2cba7b4b7ae",
   "metadata": {},
   "outputs": [],
   "source": [
    "bsObj = BeautifulSoup(html, 'lxml')\n",
    "# event_inf_tags = bsObj.findAll('div',{'class':'live-table-event'})\n",
    "event_inf_tags = bsObj.findAll('div',{'class':'c-events__item c-events__item_col'})\n"
   ]
  },
  {
   "cell_type": "code",
   "execution_count": 21,
   "id": "eba73f41-bb7e-40e5-82fe-eeaefbc1ad07",
   "metadata": {
    "tags": []
   },
   "outputs": [
    {
     "data": {
      "text/plain": [
       "[<div class=\"c-events__item c-events__item_col\"><div class=\"c-events__item\"><div class=\"c-events__date\">\n",
       "                 11 декабря\n",
       "             </div> <!-- --></div> <div class=\"c-events__item c-events__item_game\"><div class=\"c-events__favorite\" title=\"Добавить событие в избранное\"></div> <!--fragment#c051b9b2e3#head--><div class=\"c-events__time-info\" fragment=\"c051b9b2e3\"><!-- --> <div class=\"c-events__time min\" title=\"До начала  6 дн 12 ч 50 мин\"><span>11.12 22:00</span> <!-- --> <!-- --></div></div> <button class=\"c-events__to-top c-events__to-top_line c-events__to-top--two-lines\" fragment=\"c051b9b2e3\" title=\"TOP\"><svg class=\"top-icon\"><use xlink:href=\"/default/img/zone-icons/icon-top.svg#Capa1\"></use></svg></button> <a class=\"c-events__name\" data-id=\"339713013\" data-liga=\"2286134\" data-sport=\"189\" fragment=\"c051b9b2e3\" href=\"line/UFC/2286134-UFC-269/117800962-Andre-Muniz-Eryk-Anders/\"><span class=\"c-events__teams\" title=\"Андре Мунис (Бра) — Эрик Андерс (США)  \"><span class=\"c-events__team\">\n",
       "                                 Андре Мунис (Бра)\n",
       "                             </span> <span class=\"c-events__team\">\n",
       "                                 Эрик Андерс (США)\n",
       "                             </span> <!-- --> <!-- --> <!-- --> <!-- --></span> <!-- --></a><!--fragment#c051b9b2e3#tail--> <div class=\"c-events__bookmarks\"><!-- --> <div class=\"c-events__more-wrapper\"><div class=\"c-events__dop\"><!-- --> <button class=\"c-events__toggle-statistics\"><svg class=\"c-events__ico c-events__ico--statistics\"><use xlink:href=\"/default/img/zone-icons/icons.svg#general-stats\"></use></svg></button> <div class=\"c-events__icons c-events-statistics c-events-statistics--line\" style=\"z-index: 56;\"><!-- --> <!-- --> <button class=\"c-events-statistics__item\" data-gameid=\"117800962\" data-sportid=\"189\" title=\"Статистика\"><span class=\"c-events__ico c-events__ico_stat c-events-statistics__inner\"><span class=\"c-events-statistics__title\">Статистика</span></span></button> <!-- --> <!-- --> <!-- --> <!-- --></div></div> <div class=\"c-events__more-wrap\"><span class=\"c-events__more c-events__more_bets js-showMoreBets\">+9</span> <!-- --></div></div></div> <div class=\"c-bets\"><span class=\"c-bets__bet c-bets__bet_coef c-bets__bet_sm\" title=\"П1\"><span class=\"c-bets__inner\">1.73</span></span><span class=\"c-bets__bet c-bets__bet_coef c-bets__bet_sm\" title=\"Ничья\"><span class=\"c-bets__inner\">47</span></span><span class=\"c-bets__bet c-bets__bet_coef c-bets__bet_sm\" title=\"П2\"><span class=\"c-bets__inner\">2.13</span></span><span class=\"non c-bets__bet c-bets__bet_sm\"><span class=\"c-bets__inner\">-</span></span><span class=\"non c-bets__bet c-bets__bet_sm\"><span class=\"c-bets__inner\">-</span></span><span class=\"non c-bets__bet c-bets__bet_sm\"><span class=\"c-bets__inner\">-</span></span><span class=\"non c-bets__bet c-bets__bet_sm\"><span class=\"c-bets__inner\">-</span></span><span class=\"c-bets__bet non c-bets__bet_sm static-event\"><span class=\"c-bets__inner\">-</span> <!-- --></span><span class=\"non c-bets__bet c-bets__bet_sm\"><span class=\"c-bets__inner\">-</span></span><span class=\"non c-bets__bet c-bets__bet_sm\"><span class=\"c-bets__inner\">-</span></span><span class=\"c-bets__bet non c-bets__bet_sm static-event\"><span class=\"c-bets__inner\">-</span> <!-- --></span><span class=\"non c-bets__bet c-bets__bet_sm\"><span class=\"c-bets__inner\">-</span></span></div></div> <!-- --> <!-- --></div>,\n",
       " <div class=\"c-events__item c-events__item_col\"><!-- --> <div class=\"c-events__item c-events__item_game\"><div class=\"c-events__favorite\" title=\"Добавить событие в избранное\"></div> <!--fragment#e3097b6a7#head--><div class=\"c-events__time-info\" fragment=\"e3097b6a7\"><!-- --> <div class=\"c-events__time min\" title=\"До начала  6 дн 13 ч 05 мин\"><span>11.12 22:15</span> <!-- --> <!-- --></div></div> <button class=\"c-events__to-top c-events__to-top_line c-events__to-top--two-lines\" fragment=\"e3097b6a7\" title=\"TOP\"><svg class=\"top-icon\"><use xlink:href=\"/default/img/zone-icons/icon-top.svg#Capa1\"></use></svg></button> <a class=\"c-events__name\" data-id=\"339713062\" data-liga=\"2286134\" data-sport=\"189\" fragment=\"e3097b6a7\" href=\"line/UFC/2286134-UFC-269/118079549-Augusto-Sakai-Tai-Tuivasa/\"><span class=\"c-events__teams\" title=\"Августо Сакай (Бра) — Тай Туйваса (Авс)  \"><span class=\"c-events__team\">\n",
       "                                 Августо Сакай (Бра)\n",
       "                             </span> <span class=\"c-events__team\">\n",
       "                                 Тай Туйваса (Авс)\n",
       "                             </span> <!-- --> <!-- --> <!-- --> <!-- --></span> <!-- --></a><!--fragment#e3097b6a7#tail--> <div class=\"c-events__bookmarks\"><!-- --> <div class=\"c-events__more-wrapper\"><div class=\"c-events__dop\"><!-- --> <button class=\"c-events__toggle-statistics\"><svg class=\"c-events__ico c-events__ico--statistics\"><use xlink:href=\"/default/img/zone-icons/icons.svg#general-stats\"></use></svg></button> <div class=\"c-events__icons c-events-statistics c-events-statistics--line\" style=\"z-index: 56;\"><!-- --> <!-- --> <button class=\"c-events-statistics__item\" data-gameid=\"118079549\" data-sportid=\"189\" title=\"Статистика\"><span class=\"c-events__ico c-events__ico_stat c-events-statistics__inner\"><span class=\"c-events-statistics__title\">Статистика</span></span></button> <!-- --> <!-- --> <!-- --> <!-- --></div></div> <div class=\"c-events__more-wrap\"><span class=\"c-events__more c-events__more_bets js-showMoreBets\">+9</span> <!-- --></div></div></div> <div class=\"c-bets\"><span class=\"c-bets__bet c-bets__bet_coef c-bets__bet_sm\" title=\"П1\"><span class=\"c-bets__inner\">1.86</span></span><span class=\"c-bets__bet c-bets__bet_coef c-bets__bet_sm\" title=\"Ничья\"><span class=\"c-bets__inner\">45</span></span><span class=\"c-bets__bet c-bets__bet_coef c-bets__bet_sm\" title=\"П2\"><span class=\"c-bets__inner\">1.948</span></span><span class=\"non c-bets__bet c-bets__bet_sm\"><span class=\"c-bets__inner\">-</span></span><span class=\"non c-bets__bet c-bets__bet_sm\"><span class=\"c-bets__inner\">-</span></span><span class=\"non c-bets__bet c-bets__bet_sm\"><span class=\"c-bets__inner\">-</span></span><span class=\"non c-bets__bet c-bets__bet_sm\"><span class=\"c-bets__inner\">-</span></span><span class=\"c-bets__bet non c-bets__bet_sm static-event\"><span class=\"c-bets__inner\">-</span> <!-- --></span><span class=\"non c-bets__bet c-bets__bet_sm\"><span class=\"c-bets__inner\">-</span></span><span class=\"non c-bets__bet c-bets__bet_sm\"><span class=\"c-bets__inner\">-</span></span><span class=\"c-bets__bet non c-bets__bet_sm static-event\"><span class=\"c-bets__inner\">-</span> <!-- --></span><span class=\"non c-bets__bet c-bets__bet_sm\"><span class=\"c-bets__inner\">-</span></span></div></div> <!-- --> <!-- --></div>,\n",
       " <div class=\"c-events__item c-events__item_col\"><!-- --> <div class=\"c-events__item c-events__item_game\"><div class=\"c-events__favorite\" title=\"Добавить событие в избранное\"></div> <!--fragment#15211cec247#head--><div class=\"c-events__time-info\" fragment=\"15211cec247\"><!-- --> <div class=\"c-events__time min\" title=\"До начала  6 дн 13 ч 50 мин\"><span>11.12 23:00</span> <!-- --> <!-- --></div></div> <button class=\"c-events__to-top c-events__to-top_line c-events__to-top--two-lines\" fragment=\"15211cec247\" title=\"TOP\"><svg class=\"top-icon\"><use xlink:href=\"/default/img/zone-icons/icon-top.svg#Capa1\"></use></svg></button> <a class=\"c-events__name\" data-id=\"339713047\" data-liga=\"2286134\" data-sport=\"189\" fragment=\"15211cec247\" href=\"line/UFC/2286134-UFC-269/117711975-Erin-Blanchfield-Miranda-Maverick/\"><span class=\"c-events__teams\" title=\"Эрин Бланчфилд (США) — Миранда Маверик (США)  \"><span class=\"c-events__team\">\n",
       "                                 Эрин Бланчфилд (США)\n",
       "                             </span> <span class=\"c-events__team\">\n",
       "                                 Миранда Маверик (США)\n",
       "                             </span> <!-- --> <!-- --> <!-- --> <!-- --></span> <!-- --></a><!--fragment#15211cec247#tail--> <div class=\"c-events__bookmarks\"><!-- --> <div class=\"c-events__more-wrapper\"><div class=\"c-events__dop\"><!-- --> <button class=\"c-events__toggle-statistics\"><svg class=\"c-events__ico c-events__ico--statistics\"><use xlink:href=\"/default/img/zone-icons/icons.svg#general-stats\"></use></svg></button> <div class=\"c-events__icons c-events-statistics c-events-statistics--line\" style=\"z-index: 56;\"><!-- --> <!-- --> <button class=\"c-events-statistics__item\" data-gameid=\"117711975\" data-sportid=\"189\" title=\"Статистика\"><span class=\"c-events__ico c-events__ico_stat c-events-statistics__inner\"><span class=\"c-events-statistics__title\">Статистика</span></span></button> <!-- --> <!-- --> <!-- --> <!-- --></div></div> <div class=\"c-events__more-wrap\"><span class=\"c-events__more c-events__more_bets js-showMoreBets\">+5</span> <!-- --></div></div></div> <div class=\"c-bets\"><span class=\"c-bets__bet c-bets__bet_coef c-bets__bet_sm\" title=\"П1\"><span class=\"c-bets__inner\">2.14</span></span><span class=\"c-bets__bet c-bets__bet_coef c-bets__bet_sm\" title=\"Ничья\"><span class=\"c-bets__inner\">47</span></span><span class=\"c-bets__bet c-bets__bet_coef c-bets__bet_sm\" title=\"П2\"><span class=\"c-bets__inner\">1.732</span></span><span class=\"non c-bets__bet c-bets__bet_sm\"><span class=\"c-bets__inner\">-</span></span><span class=\"non c-bets__bet c-bets__bet_sm\"><span class=\"c-bets__inner\">-</span></span><span class=\"non c-bets__bet c-bets__bet_sm\"><span class=\"c-bets__inner\">-</span></span><span class=\"non c-bets__bet c-bets__bet_sm\"><span class=\"c-bets__inner\">-</span></span><span class=\"c-bets__bet non c-bets__bet_sm static-event\"><span class=\"c-bets__inner\">-</span> <!-- --></span><span class=\"non c-bets__bet c-bets__bet_sm\"><span class=\"c-bets__inner\">-</span></span><span class=\"non c-bets__bet c-bets__bet_sm\"><span class=\"c-bets__inner\">-</span></span><span class=\"c-bets__bet non c-bets__bet_sm static-event\"><span class=\"c-bets__inner\">-</span> <!-- --></span><span class=\"non c-bets__bet c-bets__bet_sm\"><span class=\"c-bets__inner\">-</span></span></div></div> <!-- --> <!-- --></div>,\n",
       " <div class=\"c-events__item c-events__item_col\"><!-- --> <div class=\"c-events__item c-events__item_game\"><div class=\"c-events__favorite\" title=\"Добавить событие в избранное\"></div> <!--fragment#25befc1c8#head--><div class=\"c-events__time-info\" fragment=\"25befc1c8\"><!-- --> <div class=\"c-events__time min\" title=\"До начала  6 дн 14 ч 20 мин\"><span>11.12 23:30</span> <!-- --> <!-- --></div></div> <button class=\"c-events__to-top c-events__to-top_line c-events__to-top--two-lines\" fragment=\"25befc1c8\" title=\"TOP\"><svg class=\"top-icon\"><use xlink:href=\"/default/img/zone-icons/icon-top.svg#Capa1\"></use></svg></button> <a class=\"c-events__name\" data-id=\"339713036\" data-liga=\"2286134\" data-sport=\"189\" fragment=\"25befc1c8\" href=\"line/UFC/2286134-UFC-269/117274028-Bruno-Arruda-da-Silva-Jordan-Wright/\"><span class=\"c-events__teams\" title=\"Бруно Арруда да Сильва (Бра) — Джордан Райт (США)  \"><span class=\"c-events__team\">\n",
       "                                 Бруно Арруда да Сильва (Бра)\n",
       "                             </span> <span class=\"c-events__team\">\n",
       "                                 Джордан Райт (США)\n",
       "                             </span> <!-- --> <!-- --> <!-- --> <!-- --></span> <!-- --></a><!--fragment#25befc1c8#tail--> <div class=\"c-events__bookmarks\"><!-- --> <div class=\"c-events__more-wrapper\"><div class=\"c-events__dop\"><!-- --> <button class=\"c-events__toggle-statistics\"><svg class=\"c-events__ico c-events__ico--statistics\"><use xlink:href=\"/default/img/zone-icons/icons.svg#general-stats\"></use></svg></button> <div class=\"c-events__icons c-events-statistics c-events-statistics--line\" style=\"z-index: 56;\"><!-- --> <!-- --> <button class=\"c-events-statistics__item\" data-gameid=\"117274028\" data-sportid=\"189\" title=\"Статистика\"><span class=\"c-events__ico c-events__ico_stat c-events-statistics__inner\"><span class=\"c-events-statistics__title\">Статистика</span></span></button> <!-- --> <!-- --> <!-- --> <!-- --></div></div> <div class=\"c-events__more-wrap\"><span class=\"c-events__more c-events__more_bets js-showMoreBets\">+7</span> <!-- --></div></div></div> <div class=\"c-bets\"><span class=\"c-bets__bet c-bets__bet_coef c-bets__bet_sm\" title=\"П1\"><span class=\"c-bets__inner\">1.192</span></span><span class=\"c-bets__bet c-bets__bet_coef c-bets__bet_sm\" title=\"Ничья\"><span class=\"c-bets__inner\">49</span></span><span class=\"c-bets__bet c-bets__bet_coef c-bets__bet_sm\" title=\"П2\"><span class=\"c-bets__inner\">3.72</span></span><span class=\"non c-bets__bet c-bets__bet_sm\"><span class=\"c-bets__inner\">-</span></span><span class=\"non c-bets__bet c-bets__bet_sm\"><span class=\"c-bets__inner\">-</span></span><span class=\"non c-bets__bet c-bets__bet_sm\"><span class=\"c-bets__inner\">-</span></span><span class=\"non c-bets__bet c-bets__bet_sm\"><span class=\"c-bets__inner\">-</span></span><span class=\"c-bets__bet non c-bets__bet_sm static-event\"><span class=\"c-bets__inner\">-</span> <!-- --></span><span class=\"non c-bets__bet c-bets__bet_sm\"><span class=\"c-bets__inner\">-</span></span><span class=\"non c-bets__bet c-bets__bet_sm\"><span class=\"c-bets__inner\">-</span></span><span class=\"c-bets__bet non c-bets__bet_sm static-event\"><span class=\"c-bets__inner\">-</span> <!-- --></span><span class=\"non c-bets__bet c-bets__bet_sm\"><span class=\"c-bets__inner\">-</span></span></div></div> <!-- --> <!-- --></div>,\n",
       " <div class=\"c-events__item c-events__item_col\"><div class=\"c-events__item\"><div class=\"c-events__date\">\n",
       "                 12 декабря\n",
       "             </div> <!-- --></div> <div class=\"c-events__item c-events__item_game\"><div class=\"c-events__favorite\" title=\"Добавить событие в избранное\"></div> <!--fragment#1130d5d90c7#head--><div class=\"c-events__time-info\" fragment=\"1130d5d90c7\"><!-- --> <div class=\"c-events__time min\" title=\"До начала  6 дн 14 ч 50 мин\"><span>12.12 00:00</span> <!-- --> <!-- --></div></div> <button class=\"c-events__to-top c-events__to-top_line c-events__to-top--two-lines\" fragment=\"1130d5d90c7\" title=\"TOP\"><svg class=\"top-icon\"><use xlink:href=\"/default/img/zone-icons/icon-top.svg#Capa1\"></use></svg></button> <a class=\"c-events__name\" data-id=\"339713014\" data-liga=\"2286134\" data-sport=\"189\" fragment=\"1130d5d90c7\" href=\"line/UFC/2286134-UFC-269/116429993-Josh-Emmett-Dan-Ige/\"><span class=\"c-events__teams\" title=\"Джош Эмметт (США) — Дэн Айдж (США)  \"><span class=\"c-events__team\">\n",
       "                                 Джош Эмметт (США)\n",
       "                             </span> <span class=\"c-events__team\">\n",
       "                                 Дэн Айдж (США)\n",
       "                             </span> <!-- --> <!-- --> <!-- --> <!-- --></span> <!-- --></a><!--fragment#1130d5d90c7#tail--> <div class=\"c-events__bookmarks\"><!-- --> <div class=\"c-events__more-wrapper\"><div class=\"c-events__dop\"><!-- --> <button class=\"c-events__toggle-statistics\"><svg class=\"c-events__ico c-events__ico--statistics\"><use xlink:href=\"/default/img/zone-icons/icons.svg#general-stats\"></use></svg></button> <div class=\"c-events__icons c-events-statistics c-events-statistics--line\" style=\"z-index: 56;\"><!-- --> <!-- --> <button class=\"c-events-statistics__item\" data-gameid=\"116429993\" data-sportid=\"189\" title=\"Статистика\"><span class=\"c-events__ico c-events__ico_stat c-events-statistics__inner\"><span class=\"c-events-statistics__title\">Статистика</span></span></button> <!-- --> <!-- --> <!-- --> <!-- --></div></div> <div class=\"c-events__more-wrap\"><span class=\"c-events__more c-events__more_bets js-showMoreBets\">+9</span> <!-- --></div></div></div> <div class=\"c-bets\"><span class=\"c-bets__bet c-bets__bet_coef c-bets__bet_sm\" title=\"П1\"><span class=\"c-bets__inner\">1.46</span></span><span class=\"c-bets__bet c-bets__bet_coef c-bets__bet_sm\" title=\"Ничья\"><span class=\"c-bets__inner\">46</span></span><span class=\"c-bets__bet c-bets__bet_coef c-bets__bet_sm\" title=\"П2\"><span class=\"c-bets__inner\">2.76</span></span><span class=\"non c-bets__bet c-bets__bet_sm\"><span class=\"c-bets__inner\">-</span></span><span class=\"non c-bets__bet c-bets__bet_sm\"><span class=\"c-bets__inner\">-</span></span><span class=\"non c-bets__bet c-bets__bet_sm\"><span class=\"c-bets__inner\">-</span></span><span class=\"non c-bets__bet c-bets__bet_sm\"><span class=\"c-bets__inner\">-</span></span><span class=\"c-bets__bet non c-bets__bet_sm static-event\"><span class=\"c-bets__inner\">-</span> <!-- --></span><span class=\"non c-bets__bet c-bets__bet_sm\"><span class=\"c-bets__inner\">-</span></span><span class=\"non c-bets__bet c-bets__bet_sm\"><span class=\"c-bets__inner\">-</span></span><span class=\"c-bets__bet non c-bets__bet_sm static-event\"><span class=\"c-bets__inner\">-</span> <!-- --></span><span class=\"non c-bets__bet c-bets__bet_sm\"><span class=\"c-bets__inner\">-</span></span></div></div> <!-- --> <!-- --></div>,\n",
       " <div class=\"c-events__item c-events__item_col\"><!-- --> <div class=\"c-events__item c-events__item_game\"><div class=\"c-events__favorite\" title=\"Добавить событие в избранное\"></div> <!--fragment#14b7284e37a#head--><div class=\"c-events__time-info\" fragment=\"14b7284e37a\"><!-- --> <div class=\"c-events__time min\" title=\"До начала  6 дн 15 ч 20 мин\"><span>12.12 00:30</span> <!-- --> <!-- --></div></div> <button class=\"c-events__to-top c-events__to-top_line c-events__to-top--two-lines\" fragment=\"14b7284e37a\" title=\"TOP\"><svg class=\"top-icon\"><use xlink:href=\"/default/img/zone-icons/icon-top.svg#Capa1\"></use></svg></button> <a class=\"c-events__name\" data-id=\"339713037\" data-liga=\"2286134\" data-sport=\"189\" fragment=\"14b7284e37a\" href=\"line/UFC/2286134-UFC-269/115201566-Geoffrey-Neal-Santiago-Ponzinibbio/\"><span class=\"c-events__teams\" title=\"Джоффри Нил (США) — Сантьяго Понзиниббио (Арг)  \"><span class=\"c-events__team\">\n",
       "                                 Джоффри Нил (США)\n",
       "                             </span> <span class=\"c-events__team\">\n",
       "                                 Сантьяго Понзиниббио (Арг)\n",
       "                             </span> <!-- --> <!-- --> <!-- --> <!-- --></span> <!-- --></a><!--fragment#14b7284e37a#tail--> <div class=\"c-events__bookmarks\"><!-- --> <div class=\"c-events__more-wrapper\"><div class=\"c-events__dop\"><!-- --> <button class=\"c-events__toggle-statistics\"><svg class=\"c-events__ico c-events__ico--statistics\"><use xlink:href=\"/default/img/zone-icons/icons.svg#general-stats\"></use></svg></button> <div class=\"c-events__icons c-events-statistics c-events-statistics--line\" style=\"z-index: 56;\"><!-- --> <!-- --> <button class=\"c-events-statistics__item\" data-gameid=\"115201566\" data-sportid=\"189\" title=\"Статистика\"><span class=\"c-events__ico c-events__ico_stat c-events-statistics__inner\"><span class=\"c-events-statistics__title\">Статистика</span></span></button> <!-- --> <!-- --> <!-- --> <!-- --></div></div> <div class=\"c-events__more-wrap\"><span class=\"c-events__more c-events__more_bets js-showMoreBets\">+9</span> <!-- --></div></div></div> <div class=\"c-bets\"><span class=\"c-bets__bet c-bets__bet_coef c-bets__bet_sm\" title=\"П1\"><span class=\"c-bets__inner\">1.9</span></span><span class=\"c-bets__bet c-bets__bet_coef c-bets__bet_sm\" title=\"Ничья\"><span class=\"c-bets__inner\">48</span></span><span class=\"c-bets__bet c-bets__bet_coef c-bets__bet_sm\" title=\"П2\"><span class=\"c-bets__inner\">1.9</span></span><span class=\"non c-bets__bet c-bets__bet_sm\"><span class=\"c-bets__inner\">-</span></span><span class=\"non c-bets__bet c-bets__bet_sm\"><span class=\"c-bets__inner\">-</span></span><span class=\"non c-bets__bet c-bets__bet_sm\"><span class=\"c-bets__inner\">-</span></span><span class=\"non c-bets__bet c-bets__bet_sm\"><span class=\"c-bets__inner\">-</span></span><span class=\"c-bets__bet non c-bets__bet_sm static-event\"><span class=\"c-bets__inner\">-</span> <!-- --></span><span class=\"non c-bets__bet c-bets__bet_sm\"><span class=\"c-bets__inner\">-</span></span><span class=\"non c-bets__bet c-bets__bet_sm\"><span class=\"c-bets__inner\">-</span></span><span class=\"c-bets__bet non c-bets__bet_sm static-event\"><span class=\"c-bets__inner\">-</span> <!-- --></span><span class=\"non c-bets__bet c-bets__bet_sm\"><span class=\"c-bets__inner\">-</span></span></div></div> <!-- --> <!-- --></div>,\n",
       " <div class=\"c-events__item c-events__item_col\"><!-- --> <div class=\"c-events__item c-events__item_game\"><div class=\"c-events__favorite\" title=\"Добавить событие в избранное\"></div> <!--fragment#aeb80508b9#head--><div class=\"c-events__time-info\" fragment=\"aeb80508b9\"><!-- --> <div class=\"c-events__time min\" title=\"До начала  6 дн 15 ч 50 мин\"><span>12.12 01:00</span> <!-- --> <!-- --></div></div> <button class=\"c-events__to-top c-events__to-top_line c-events__to-top--two-lines\" fragment=\"aeb80508b9\" title=\"TOP\"><svg class=\"top-icon\"><use xlink:href=\"/default/img/zone-icons/icon-top.svg#Capa1\"></use></svg></button> <a class=\"c-events__name\" data-id=\"340013046\" data-liga=\"2286134\" data-sport=\"189\" fragment=\"aeb80508b9\" href=\"line/UFC/2286134-UFC-269/114195149-Pedro-Munhoz-Dominick-Cruz/\"><span class=\"c-events__teams\" title=\"Педро Муньос (Бра) — Доминик Круз (США)  \"><span class=\"c-events__team\">\n",
       "                                 Педро Муньос (Бра)\n",
       "                             </span> <span class=\"c-events__team\">\n",
       "                                 Доминик Круз (США)\n",
       "                             </span> <!-- --> <!-- --> <!-- --> <!-- --></span> <!-- --></a><!--fragment#aeb80508b9#tail--> <div class=\"c-events__bookmarks\"><!-- --> <div class=\"c-events__more-wrapper\"><div class=\"c-events__dop\"><!-- --> <button class=\"c-events__toggle-statistics\"><svg class=\"c-events__ico c-events__ico--statistics\"><use xlink:href=\"/default/img/zone-icons/icons.svg#general-stats\"></use></svg></button> <div class=\"c-events__icons c-events-statistics c-events-statistics--line\" style=\"z-index: 56;\"><!-- --> <!-- --> <button class=\"c-events-statistics__item\" data-gameid=\"114195149\" data-sportid=\"189\" title=\"Статистика\"><span class=\"c-events__ico c-events__ico_stat c-events-statistics__inner\"><span class=\"c-events-statistics__title\">Статистика</span></span></button> <!-- --> <!-- --> <!-- --> <!-- --></div></div> <div class=\"c-events__more-wrap\"><span class=\"c-events__more c-events__more_bets js-showMoreBets\">+9</span> <!-- --></div></div></div> <div class=\"c-bets\"><span class=\"c-bets__bet c-bets__bet_coef c-bets__bet_sm\" title=\"П1\"><span class=\"c-bets__inner\">1.865</span></span><span class=\"c-bets__bet c-bets__bet_coef c-bets__bet_sm\" title=\"Ничья\"><span class=\"c-bets__inner\">47</span></span><span class=\"c-bets__bet c-bets__bet_coef c-bets__bet_sm\" title=\"П2\"><span class=\"c-bets__inner\">1.932</span></span><span class=\"non c-bets__bet c-bets__bet_sm\"><span class=\"c-bets__inner\">-</span></span><span class=\"non c-bets__bet c-bets__bet_sm\"><span class=\"c-bets__inner\">-</span></span><span class=\"non c-bets__bet c-bets__bet_sm\"><span class=\"c-bets__inner\">-</span></span><span class=\"non c-bets__bet c-bets__bet_sm\"><span class=\"c-bets__inner\">-</span></span><span class=\"c-bets__bet non c-bets__bet_sm static-event\"><span class=\"c-bets__inner\">-</span> <!-- --></span><span class=\"non c-bets__bet c-bets__bet_sm\"><span class=\"c-bets__inner\">-</span></span><span class=\"non c-bets__bet c-bets__bet_sm\"><span class=\"c-bets__inner\">-</span></span><span class=\"c-bets__bet non c-bets__bet_sm static-event\"><span class=\"c-bets__inner\">-</span> <!-- --></span><span class=\"non c-bets__bet c-bets__bet_sm\"><span class=\"c-bets__inner\">-</span></span></div></div> <!-- --> <!-- --></div>,\n",
       " <div class=\"c-events__item c-events__item_col\"><!-- --> <div class=\"c-events__item c-events__item_game\"><div class=\"c-events__favorite\" title=\"Добавить событие в избранное\"></div> <!--fragment#3e03832645#head--><div class=\"c-events__time-info\" fragment=\"3e03832645\"><!-- --> <div class=\"c-events__time min\" title=\"До начала  6 дн 16 ч 20 мин\"><span>12.12 01:30</span> <!-- --> <!-- --></div></div> <button class=\"c-events__to-top c-events__to-top_line c-events__to-top--two-lines\" fragment=\"3e03832645\" title=\"TOP\"><svg class=\"top-icon\"><use xlink:href=\"/default/img/zone-icons/icon-top.svg#Capa1\"></use></svg></button> <a class=\"c-events__name\" data-id=\"339713034\" data-liga=\"2286134\" data-sport=\"189\" fragment=\"3e03832645\" href=\"line/UFC/2286134-UFC-269/118193454-Ryan-Hall-Darrick-Minner/\"><span class=\"c-events__teams\" title=\"Райан Холл (США) — Деррик Миннер (США)  \"><span class=\"c-events__team\">\n",
       "                                 Райан Холл (США)\n",
       "                             </span> <span class=\"c-events__team\">\n",
       "                                 Деррик Миннер (США)\n",
       "                             </span> <!-- --> <!-- --> <!-- --> <!-- --></span> <!-- --></a><!--fragment#3e03832645#tail--> <div class=\"c-events__bookmarks\"><!-- --> <div class=\"c-events__more-wrapper\"><div class=\"c-events__dop\"><!-- --> <button class=\"c-events__toggle-statistics\"><svg class=\"c-events__ico c-events__ico--statistics\"><use xlink:href=\"/default/img/zone-icons/icons.svg#general-stats\"></use></svg></button> <div class=\"c-events__icons c-events-statistics c-events-statistics--line\" style=\"z-index: 56;\"><!-- --> <!-- --> <button class=\"c-events-statistics__item\" data-gameid=\"118193454\" data-sportid=\"189\" title=\"Статистика\"><span class=\"c-events__ico c-events__ico_stat c-events-statistics__inner\"><span class=\"c-events-statistics__title\">Статистика</span></span></button> <!-- --> <!-- --> <!-- --> <!-- --></div></div> <div class=\"c-events__more-wrap\"><span class=\"c-events__more c-events__more_bets js-showMoreBets\">+9</span> <!-- --></div></div></div> <div class=\"c-bets\"><span class=\"c-bets__bet c-bets__bet_coef c-bets__bet_sm\" title=\"П1\"><span class=\"c-bets__inner\">1.46</span></span><span class=\"c-bets__bet c-bets__bet_coef c-bets__bet_sm\" title=\"Ничья\"><span class=\"c-bets__inner\">51</span></span><span class=\"c-bets__bet c-bets__bet_coef c-bets__bet_sm\" title=\"П2\"><span class=\"c-bets__inner\">2.74</span></span><span class=\"non c-bets__bet c-bets__bet_sm\"><span class=\"c-bets__inner\">-</span></span><span class=\"non c-bets__bet c-bets__bet_sm\"><span class=\"c-bets__inner\">-</span></span><span class=\"non c-bets__bet c-bets__bet_sm\"><span class=\"c-bets__inner\">-</span></span><span class=\"non c-bets__bet c-bets__bet_sm\"><span class=\"c-bets__inner\">-</span></span><span class=\"c-bets__bet non c-bets__bet_sm static-event\"><span class=\"c-bets__inner\">-</span> <!-- --></span><span class=\"non c-bets__bet c-bets__bet_sm\"><span class=\"c-bets__inner\">-</span></span><span class=\"non c-bets__bet c-bets__bet_sm\"><span class=\"c-bets__inner\">-</span></span><span class=\"c-bets__bet non c-bets__bet_sm static-event\"><span class=\"c-bets__inner\">-</span> <!-- --></span><span class=\"non c-bets__bet c-bets__bet_sm\"><span class=\"c-bets__inner\">-</span></span></div></div> <!-- --> <!-- --></div>,\n",
       " <div class=\"c-events__item c-events__item_col\"><!-- --> <div class=\"c-events__item c-events__item_game\"><div class=\"c-events__favorite\" title=\"Добавить событие в избранное\"></div> <!--fragment#f4dc19590d#head--><div class=\"c-events__time-info\" fragment=\"f4dc19590d\"><!-- --> <div class=\"c-events__time min\" title=\"До начала  6 дн 16 ч 50 мин\"><span>12.12 02:00</span> <!-- --> <!-- --></div></div> <button class=\"c-events__to-top c-events__to-top_line c-events__to-top--two-lines\" fragment=\"f4dc19590d\" title=\"TOP\"><svg class=\"top-icon\"><use xlink:href=\"/default/img/zone-icons/icon-top.svg#Capa1\"></use></svg></button> <a class=\"c-events__name\" data-id=\"339713058\" data-liga=\"2286134\" data-sport=\"189\" fragment=\"f4dc19590d\" href=\"line/UFC/2286134-UFC-269/118190686-Alex-Perez-Matt-Schnell/\"><span class=\"c-events__teams\" title=\"Алекс Перес (США) — Мэт Шнелль (США)  \"><span class=\"c-events__team\">\n",
       "                                 Алекс Перес (США)\n",
       "                             </span> <span class=\"c-events__team\">\n",
       "                                 Мэт Шнелль (США)\n",
       "                             </span> <!-- --> <!-- --> <!-- --> <!-- --></span> <!-- --></a><!--fragment#f4dc19590d#tail--> <div class=\"c-events__bookmarks\"><!-- --> <div class=\"c-events__more-wrapper\"><div class=\"c-events__dop\"><!-- --> <button class=\"c-events__toggle-statistics\"><svg class=\"c-events__ico c-events__ico--statistics\"><use xlink:href=\"/default/img/zone-icons/icons.svg#general-stats\"></use></svg></button> <div class=\"c-events__icons c-events-statistics c-events-statistics--line\" style=\"z-index: 56;\"><!-- --> <!-- --> <button class=\"c-events-statistics__item\" data-gameid=\"118190686\" data-sportid=\"189\" title=\"Статистика\"><span class=\"c-events__ico c-events__ico_stat c-events-statistics__inner\"><span class=\"c-events-statistics__title\">Статистика</span></span></button> <!-- --> <!-- --> <!-- --> <!-- --></div></div> <div class=\"c-events__more-wrap\"><span class=\"c-events__more c-events__more_bets js-showMoreBets\">+9</span> <!-- --></div></div></div> <div class=\"c-bets\"><span class=\"c-bets__bet c-bets__bet_coef c-bets__bet_sm\" title=\"П1\"><span class=\"c-bets__inner\">1.32</span></span><span class=\"c-bets__bet c-bets__bet_coef c-bets__bet_sm\" title=\"Ничья\"><span class=\"c-bets__inner\">48</span></span><span class=\"c-bets__bet c-bets__bet_coef c-bets__bet_sm\" title=\"П2\"><span class=\"c-bets__inner\">3.44</span></span><span class=\"non c-bets__bet c-bets__bet_sm\"><span class=\"c-bets__inner\">-</span></span><span class=\"non c-bets__bet c-bets__bet_sm\"><span class=\"c-bets__inner\">-</span></span><span class=\"non c-bets__bet c-bets__bet_sm\"><span class=\"c-bets__inner\">-</span></span><span class=\"non c-bets__bet c-bets__bet_sm\"><span class=\"c-bets__inner\">-</span></span><span class=\"c-bets__bet non c-bets__bet_sm static-event\"><span class=\"c-bets__inner\">-</span> <!-- --></span><span class=\"non c-bets__bet c-bets__bet_sm\"><span class=\"c-bets__inner\">-</span></span><span class=\"non c-bets__bet c-bets__bet_sm\"><span class=\"c-bets__inner\">-</span></span><span class=\"c-bets__bet non c-bets__bet_sm static-event\"><span class=\"c-bets__inner\">-</span> <!-- --></span><span class=\"non c-bets__bet c-bets__bet_sm\"><span class=\"c-bets__inner\">-</span></span></div></div> <!-- --> <!-- --></div>,\n",
       " <div class=\"c-events__item c-events__item_col\"><!-- --> <div class=\"c-events__item c-events__item_game\"><div class=\"c-events__favorite\" title=\"Добавить событие в избранное\"></div> <!--fragment#13c80696410#head--><div class=\"c-events__time-info\" fragment=\"13c80696410\"><!-- --> <div class=\"c-events__time min\" title=\"До начала  6 дн 17 ч 20 мин\"><span>12.12 02:30</span> <!-- --> <!-- --></div></div> <button class=\"c-events__to-top c-events__to-top_line c-events__to-top--two-lines\" fragment=\"13c80696410\" title=\"TOP\"><svg class=\"top-icon\"><use xlink:href=\"/default/img/zone-icons/icon-top.svg#Capa1\"></use></svg></button> <a class=\"c-events__name\" data-id=\"339713029\" data-liga=\"2286134\" data-sport=\"189\" fragment=\"13c80696410\" href=\"line/UFC/2286134-UFC-269/118193455-Randy-Costa-Tony-Kelley/\"><span class=\"c-events__teams\" title=\"Рэнди Коста (США) — Тони Келли (США)  \"><span class=\"c-events__team\">\n",
       "                                 Рэнди Коста (США)\n",
       "                             </span> <span class=\"c-events__team\">\n",
       "                                 Тони Келли (США)\n",
       "                             </span> <!-- --> <!-- --> <!-- --> <!-- --></span> <!-- --></a><!--fragment#13c80696410#tail--> <div class=\"c-events__bookmarks\"><!-- --> <div class=\"c-events__more-wrapper\"><div class=\"c-events__dop\"><!-- --> <button class=\"c-events__toggle-statistics\"><svg class=\"c-events__ico c-events__ico--statistics\"><use xlink:href=\"/default/img/zone-icons/icons.svg#general-stats\"></use></svg></button> <div class=\"c-events__icons c-events-statistics c-events-statistics--line\" style=\"z-index: 56;\"><!-- --> <!-- --> <button class=\"c-events-statistics__item\" data-gameid=\"118193455\" data-sportid=\"189\" title=\"Статистика\"><span class=\"c-events__ico c-events__ico_stat c-events-statistics__inner\"><span class=\"c-events-statistics__title\">Статистика</span></span></button> <!-- --> <!-- --> <!-- --> <!-- --></div></div> <div class=\"c-events__more-wrap\"><span class=\"c-events__more c-events__more_bets js-showMoreBets\">+9</span> <!-- --></div></div></div> <div class=\"c-bets\"><span class=\"c-bets__bet c-bets__bet_coef c-bets__bet_sm\" title=\"П1\"><span class=\"c-bets__inner\">1.504</span></span><span class=\"c-bets__bet c-bets__bet_coef c-bets__bet_sm\" title=\"Ничья\"><span class=\"c-bets__inner\">45</span></span><span class=\"c-bets__bet c-bets__bet_coef c-bets__bet_sm\" title=\"П2\"><span class=\"c-bets__inner\">2.63</span></span><span class=\"non c-bets__bet c-bets__bet_sm\"><span class=\"c-bets__inner\">-</span></span><span class=\"non c-bets__bet c-bets__bet_sm\"><span class=\"c-bets__inner\">-</span></span><span class=\"non c-bets__bet c-bets__bet_sm\"><span class=\"c-bets__inner\">-</span></span><span class=\"non c-bets__bet c-bets__bet_sm\"><span class=\"c-bets__inner\">-</span></span><span class=\"c-bets__bet non c-bets__bet_sm static-event\"><span class=\"c-bets__inner\">-</span> <!-- --></span><span class=\"non c-bets__bet c-bets__bet_sm\"><span class=\"c-bets__inner\">-</span></span><span class=\"non c-bets__bet c-bets__bet_sm\"><span class=\"c-bets__inner\">-</span></span><span class=\"c-bets__bet non c-bets__bet_sm static-event\"><span class=\"c-bets__inner\">-</span> <!-- --></span><span class=\"non c-bets__bet c-bets__bet_sm\"><span class=\"c-bets__inner\">-</span></span></div></div> <!-- --> <!-- --></div>,\n",
       " <div class=\"c-events__item c-events__item_col\"><!-- --> <div class=\"c-events__item c-events__item_game\"><div class=\"c-events__favorite\" title=\"Добавить событие в избранное\"></div> <!--fragment#147be2187b3#head--><div class=\"c-events__time-info\" fragment=\"147be2187b3\"><!-- --> <div class=\"c-events__time min\" title=\"До начала  6 дн 17 ч 50 мин\"><span>12.12 03:00</span> <!-- --> <!-- --></div></div> <button class=\"c-events__to-top c-events__to-top_line c-events__to-top--two-lines\" fragment=\"147be2187b3\" title=\"TOP\"><svg class=\"top-icon\"><use xlink:href=\"/default/img/zone-icons/icon-top.svg#Capa1\"></use></svg></button> <a class=\"c-events__name\" data-id=\"323756562\" data-liga=\"2286134\" data-sport=\"189\" fragment=\"147be2187b3\" href=\"line/UFC/2286134-UFC-269/111547754-Amanda-Nunes-Julianna-Pena/\"><span class=\"c-events__teams\" title=\"Аманда Нуньес (Бра) — Джулианна Пена (США)  \"><span class=\"c-events__team\">\n",
       "                                 Аманда Нуньес (Бра)\n",
       "                             </span> <span class=\"c-events__team\">\n",
       "                                 Джулианна Пена (США)\n",
       "                             </span> <!-- --> <!-- --> <!-- --> <!-- --></span> <!-- --></a><!--fragment#147be2187b3#tail--> <div class=\"c-events__bookmarks\"><!-- --> <div class=\"c-events__more-wrapper\"><div class=\"c-events__dop\"><!-- --> <button class=\"c-events__toggle-statistics\"><svg class=\"c-events__ico c-events__ico--statistics\"><use xlink:href=\"/default/img/zone-icons/icons.svg#general-stats\"></use></svg></button> <div class=\"c-events__icons c-events-statistics c-events-statistics--line\" style=\"z-index: 56;\"><!-- --> <!-- --> <button class=\"c-events-statistics__item\" data-gameid=\"111547754\" data-sportid=\"189\" title=\"Статистика\"><span class=\"c-events__ico c-events__ico_stat c-events-statistics__inner\"><span class=\"c-events-statistics__title\">Статистика</span></span></button> <!-- --> <!-- --> <!-- --> <!-- --></div></div> <div class=\"c-events__more-wrap\"><span class=\"c-events__more c-events__more_bets js-showMoreBets\">+94</span> <!-- --></div></div></div> <div class=\"c-bets\"><span class=\"c-bets__bet c-bets__bet_coef c-bets__bet_sm\" title=\"П1\"><span class=\"c-bets__inner\">1.045</span></span><span class=\"c-bets__bet c-bets__bet_coef c-bets__bet_sm\" title=\"Ничья\"><span class=\"c-bets__inner\">51</span></span><span class=\"c-bets__bet c-bets__bet_coef c-bets__bet_sm\" title=\"П2\"><span class=\"c-bets__inner\">12</span></span><span class=\"non c-bets__bet c-bets__bet_sm\"><span class=\"c-bets__inner\">-</span></span><span class=\"non c-bets__bet c-bets__bet_sm\"><span class=\"c-bets__inner\">-</span></span><span class=\"non c-bets__bet c-bets__bet_sm\"><span class=\"c-bets__inner\">-</span></span><span class=\"c-bets__bet c-bets__bet_coef c-bets__bet_sm\" title=\"Тотал больше\"><span class=\"c-bets__inner\">1.84</span></span><span class=\"c-bets__bet non c-bets__bet_sm static-event num\"><span class=\"c-bets__inner\">1.5</span> <!-- --></span><span class=\"c-bets__bet c-bets__bet_coef c-bets__bet_sm\" title=\"Тотал меньше\"><span class=\"c-bets__inner\">1.96</span></span><span class=\"non c-bets__bet c-bets__bet_sm\"><span class=\"c-bets__inner\">-</span></span><span class=\"c-bets__bet non c-bets__bet_sm static-event\"><span class=\"c-bets__inner\">-</span> <!-- --></span><span class=\"non c-bets__bet c-bets__bet_sm\"><span class=\"c-bets__inner\">-</span></span></div></div> <!-- --> <!-- --></div>,\n",
       " <div class=\"c-events__item c-events__item_col\"><!-- --> <div class=\"c-events__item c-events__item_game\"><div class=\"c-events__favorite\" title=\"Добавить событие в избранное\"></div> <!--fragment#1094bf761a2#head--><div class=\"c-events__time-info\" fragment=\"1094bf761a2\"><!-- --> <div class=\"c-events__time min\" title=\"До начала  6 дн 17 ч 50 мин\"><span>12.12 03:00</span> <!-- --> <!-- --></div></div> <button class=\"c-events__to-top c-events__to-top_line c-events__to-top--two-lines\" fragment=\"1094bf761a2\" title=\"TOP\"><svg class=\"top-icon\"><use xlink:href=\"/default/img/zone-icons/icon-top.svg#Capa1\"></use></svg></button> <a class=\"c-events__name\" data-id=\"339713052\" data-liga=\"2286134\" data-sport=\"189\" fragment=\"1094bf761a2\" href=\"line/UFC/2286134-UFC-269/111547757-Priscila-Cachoeira-Gillian-Robertson/\"><span class=\"c-events__teams\" title=\"Присцила Кашоира (Бра) — Джиллиан Робертсон (Кан)  \"><span class=\"c-events__team\">\n",
       "                                 Присцила Кашоира (Бра)\n",
       "                             </span> <span class=\"c-events__team\">\n",
       "                                 Джиллиан Робертсон (Кан)\n",
       "                             </span> <!-- --> <!-- --> <!-- --> <!-- --></span> <!-- --></a><!--fragment#1094bf761a2#tail--> <div class=\"c-events__bookmarks\"><!-- --> <div class=\"c-events__more-wrapper\"><div class=\"c-events__dop\"><!-- --> <button class=\"c-events__toggle-statistics\"><svg class=\"c-events__ico c-events__ico--statistics\"><use xlink:href=\"/default/img/zone-icons/icons.svg#general-stats\"></use></svg></button> <div class=\"c-events__icons c-events-statistics c-events-statistics--line\" style=\"z-index: 56;\"><!-- --> <!-- --> <button class=\"c-events-statistics__item\" data-gameid=\"111547757\" data-sportid=\"189\" title=\"Статистика\"><span class=\"c-events__ico c-events__ico_stat c-events-statistics__inner\"><span class=\"c-events-statistics__title\">Статистика</span></span></button> <!-- --> <!-- --> <!-- --> <!-- --></div></div> <div class=\"c-events__more-wrap\"><span class=\"c-events__more c-events__more_bets js-showMoreBets\">+7</span> <!-- --></div></div></div> <div class=\"c-bets\"><span class=\"c-bets__bet c-bets__bet_coef c-bets__bet_sm\" title=\"П1\"><span class=\"c-bets__inner\">3.8</span></span><span class=\"c-bets__bet c-bets__bet_coef c-bets__bet_sm\" title=\"Ничья\"><span class=\"c-bets__inner\">46</span></span><span class=\"c-bets__bet c-bets__bet_coef c-bets__bet_sm\" title=\"П2\"><span class=\"c-bets__inner\">1.28</span></span><span class=\"non c-bets__bet c-bets__bet_sm\"><span class=\"c-bets__inner\">-</span></span><span class=\"non c-bets__bet c-bets__bet_sm\"><span class=\"c-bets__inner\">-</span></span><span class=\"non c-bets__bet c-bets__bet_sm\"><span class=\"c-bets__inner\">-</span></span><span class=\"non c-bets__bet c-bets__bet_sm\"><span class=\"c-bets__inner\">-</span></span><span class=\"c-bets__bet non c-bets__bet_sm static-event\"><span class=\"c-bets__inner\">-</span> <!-- --></span><span class=\"non c-bets__bet c-bets__bet_sm\"><span class=\"c-bets__inner\">-</span></span><span class=\"non c-bets__bet c-bets__bet_sm\"><span class=\"c-bets__inner\">-</span></span><span class=\"c-bets__bet non c-bets__bet_sm static-event\"><span class=\"c-bets__inner\">-</span> <!-- --></span><span class=\"non c-bets__bet c-bets__bet_sm\"><span class=\"c-bets__inner\">-</span></span></div></div> <!-- --> <!-- --></div>,\n",
       " <div class=\"c-events__item c-events__item_col\"><!-- --> <div class=\"c-events__item c-events__item_game\"><div class=\"c-events__favorite\" title=\"Добавить событие в избранное\"></div> <!--fragment#1cf74a09ad#head--><div class=\"c-events__time-info\" fragment=\"1cf74a09ad\"><!-- --> <div class=\"c-events__time min\" title=\"До начала  6 дн 18 ч 50 мин\"><span>12.12 04:00</span> <!-- --> <!-- --></div></div> <button class=\"c-events__to-top c-events__to-top_line c-events__to-top--two-lines\" fragment=\"1cf74a09ad\" title=\"TOP\"><svg class=\"top-icon\"><use xlink:href=\"/default/img/zone-icons/icon-top.svg#Capa1\"></use></svg></button> <a class=\"c-events__name\" data-id=\"339713055\" data-liga=\"2286134\" data-sport=\"189\" fragment=\"1cf74a09ad\" href=\"line/UFC/2286134-UFC-269/115987757-Sean-OMalley-Raulian-Paiva/\"><span class=\"c-events__teams\" title=\"Шон О'Мэлли (США) — Раульян Пайва (Бра)  \"><span class=\"c-events__team\">\n",
       "                                 Шон О'Мэлли (США)\n",
       "                             </span> <span class=\"c-events__team\">\n",
       "                                 Раульян Пайва (Бра)\n",
       "                             </span> <!-- --> <!-- --> <!-- --> <!-- --></span> <!-- --></a><!--fragment#1cf74a09ad#tail--> <div class=\"c-events__bookmarks\"><!-- --> <div class=\"c-events__more-wrapper\"><div class=\"c-events__dop\"><!-- --> <button class=\"c-events__toggle-statistics\"><svg class=\"c-events__ico c-events__ico--statistics\"><use xlink:href=\"/default/img/zone-icons/icons.svg#general-stats\"></use></svg></button> <div class=\"c-events__icons c-events-statistics c-events-statistics--line\" style=\"z-index: 56;\"><!-- --> <!-- --> <button class=\"c-events-statistics__item\" data-gameid=\"115987757\" data-sportid=\"189\" title=\"Статистика\"><span class=\"c-events__ico c-events__ico_stat c-events-statistics__inner\"><span class=\"c-events-statistics__title\">Статистика</span></span></button> <!-- --> <!-- --> <!-- --> <!-- --></div></div> <div class=\"c-events__more-wrap\"><span class=\"c-events__more c-events__more_bets js-showMoreBets\">+7</span> <!-- --></div></div></div> <div class=\"c-bets\"><span class=\"c-bets__bet c-bets__bet_coef c-bets__bet_sm\" title=\"П1\"><span class=\"c-bets__inner\">1.23</span></span><span class=\"c-bets__bet c-bets__bet_coef c-bets__bet_sm\" title=\"Ничья\"><span class=\"c-bets__inner\">50</span></span><span class=\"c-bets__bet c-bets__bet_coef c-bets__bet_sm\" title=\"П2\"><span class=\"c-bets__inner\">4.24</span></span><span class=\"non c-bets__bet c-bets__bet_sm\"><span class=\"c-bets__inner\">-</span></span><span class=\"non c-bets__bet c-bets__bet_sm\"><span class=\"c-bets__inner\">-</span></span><span class=\"non c-bets__bet c-bets__bet_sm\"><span class=\"c-bets__inner\">-</span></span><span class=\"non c-bets__bet c-bets__bet_sm\"><span class=\"c-bets__inner\">-</span></span><span class=\"c-bets__bet non c-bets__bet_sm static-event\"><span class=\"c-bets__inner\">-</span> <!-- --></span><span class=\"non c-bets__bet c-bets__bet_sm\"><span class=\"c-bets__inner\">-</span></span><span class=\"non c-bets__bet c-bets__bet_sm\"><span class=\"c-bets__inner\">-</span></span><span class=\"c-bets__bet non c-bets__bet_sm static-event\"><span class=\"c-bets__inner\">-</span> <!-- --></span><span class=\"non c-bets__bet c-bets__bet_sm\"><span class=\"c-bets__inner\">-</span></span></div></div> <!-- --> <!-- --></div>,\n",
       " <div class=\"c-events__item c-events__item_col\"><!-- --> <div class=\"c-events__item c-events__item_game\"><div class=\"c-events__favorite\" title=\"Добавить событие в избранное\"></div> <!--fragment#1736440dd85#head--><div class=\"c-events__time-info\" fragment=\"1736440dd85\"><!-- --> <div class=\"c-events__time min\" title=\"До начала  6 дн 19 ч 20 мин\"><span>12.12 04:30</span> <!-- --> <!-- --></div></div> <button class=\"c-events__to-top c-events__to-top_line c-events__to-top--two-lines\" fragment=\"1736440dd85\" title=\"TOP\"><svg class=\"top-icon\"><use xlink:href=\"/default/img/zone-icons/icon-top.svg#Capa1\"></use></svg></button> <a class=\"c-events__name\" data-id=\"340014199\" data-liga=\"2286134\" data-sport=\"189\" fragment=\"1736440dd85\" href=\"line/UFC/2286134-UFC-269/111547755-Kai-Kara-France-Cody-Garbrandt/\"><span class=\"c-events__teams\" title=\"Кай Кара-Франс (Н.Зел) — Коди Гарбрэндт (США)  \"><span class=\"c-events__team\">\n",
       "                                 Кай Кара-Франс (Н.Зел)\n",
       "                             </span> <span class=\"c-events__team\">\n",
       "                                 Коди Гарбрэндт (США)\n",
       "                             </span> <!-- --> <!-- --> <!-- --> <!-- --></span> <!-- --></a><!--fragment#1736440dd85#tail--> <div class=\"c-events__bookmarks\"><!-- --> <div class=\"c-events__more-wrapper\"><div class=\"c-events__dop\"><!-- --> <button class=\"c-events__toggle-statistics\"><svg class=\"c-events__ico c-events__ico--statistics\"><use xlink:href=\"/default/img/zone-icons/icons.svg#general-stats\"></use></svg></button> <div class=\"c-events__icons c-events-statistics c-events-statistics--line\" style=\"z-index: 56;\"><!-- --> <!-- --> <button class=\"c-events-statistics__item\" data-gameid=\"111547755\" data-sportid=\"189\" title=\"Статистика\"><span class=\"c-events__ico c-events__ico_stat c-events-statistics__inner\"><span class=\"c-events-statistics__title\">Статистика</span></span></button> <!-- --> <!-- --> <!-- --> <!-- --></div></div> <div class=\"c-events__more-wrap\"><span class=\"c-events__more c-events__more_bets js-showMoreBets\">+9</span> <!-- --></div></div></div> <div class=\"c-bets\"><span class=\"c-bets__bet c-bets__bet_coef c-bets__bet_sm\" title=\"П1\"><span class=\"c-bets__inner\">2.308</span></span><span class=\"c-bets__bet c-bets__bet_coef c-bets__bet_sm\" title=\"Ничья\"><span class=\"c-bets__inner\">49</span></span><span class=\"c-bets__bet c-bets__bet_coef c-bets__bet_sm\" title=\"П2\"><span class=\"c-bets__inner\">1.63</span></span><span class=\"non c-bets__bet c-bets__bet_sm\"><span class=\"c-bets__inner\">-</span></span><span class=\"non c-bets__bet c-bets__bet_sm\"><span class=\"c-bets__inner\">-</span></span><span class=\"non c-bets__bet c-bets__bet_sm\"><span class=\"c-bets__inner\">-</span></span><span class=\"non c-bets__bet c-bets__bet_sm\"><span class=\"c-bets__inner\">-</span></span><span class=\"c-bets__bet non c-bets__bet_sm static-event\"><span class=\"c-bets__inner\">-</span> <!-- --></span><span class=\"non c-bets__bet c-bets__bet_sm\"><span class=\"c-bets__inner\">-</span></span><span class=\"non c-bets__bet c-bets__bet_sm\"><span class=\"c-bets__inner\">-</span></span><span class=\"c-bets__bet non c-bets__bet_sm static-event\"><span class=\"c-bets__inner\">-</span> <!-- --></span><span class=\"non c-bets__bet c-bets__bet_sm\"><span class=\"c-bets__inner\">-</span></span></div></div> <!-- --> <!-- --></div>,\n",
       " <div class=\"c-events__item c-events__item_col\"><!-- --> <div class=\"c-events__item c-events__item_game\"><div class=\"c-events__favorite\" title=\"Добавить событие в избранное\"></div> <!--fragment#54e7d12bc9#head--><div class=\"c-events__time-info\" fragment=\"54e7d12bc9\"><!-- --> <div class=\"c-events__time min\" title=\"До начала  6 дн 20 ч 50 мин\"><span>12.12 06:00</span> <!-- --> <!-- --></div></div> <button class=\"c-events__to-top c-events__to-top_line c-events__to-top--two-lines\" fragment=\"54e7d12bc9\" title=\"TOP\"><svg class=\"top-icon\"><use xlink:href=\"/default/img/zone-icons/icon-top.svg#Capa1\"></use></svg></button> <a class=\"c-events__name\" data-id=\"341027381\" data-liga=\"2286134\" data-sport=\"189\" fragment=\"54e7d12bc9\" href=\"line/UFC/2286134-UFC-269/111707907-Charles-Oliveira-Dustin-Poirier/\"><span class=\"c-events__teams\" title=\"Чарльз Оливейра (Бра) — Дастин Порье (США)  \"><span class=\"c-events__team\">\n",
       "                                 Чарльз Оливейра (Бра)\n",
       "                             </span> <span class=\"c-events__team\">\n",
       "                                 Дастин Порье (США)\n",
       "                             </span> <!-- --> <!-- --> <!-- --> <!-- --></span> <!-- --></a><!--fragment#54e7d12bc9#tail--> <div class=\"c-events__bookmarks\"><!-- --> <div class=\"c-events__more-wrapper\"><div class=\"c-events__dop\"><!-- --> <button class=\"c-events__toggle-statistics\"><svg class=\"c-events__ico c-events__ico--statistics\"><use xlink:href=\"/default/img/zone-icons/icons.svg#general-stats\"></use></svg></button> <div class=\"c-events__icons c-events-statistics c-events-statistics--line\" style=\"z-index: 56;\"><!-- --> <!-- --> <button class=\"c-events-statistics__item\" data-gameid=\"111707907\" data-sportid=\"189\" title=\"Статистика\"><span class=\"c-events__ico c-events__ico_stat c-events-statistics__inner\"><span class=\"c-events-statistics__title\">Статистика</span></span></button> <!-- --> <!-- --> <!-- --> <!-- --></div></div> <div class=\"c-events__more-wrap\"><span class=\"c-events__more c-events__more_bets js-showMoreBets\">+87</span> <!-- --></div></div></div> <div class=\"c-bets\"><span class=\"c-bets__bet c-bets__bet_coef c-bets__bet_sm\" title=\"П1\"><span class=\"c-bets__inner\">2.536</span></span><span class=\"c-bets__bet c-bets__bet_coef c-bets__bet_sm\" title=\"Ничья\"><span class=\"c-bets__inner\">70</span></span><span class=\"c-bets__bet c-bets__bet_coef c-bets__bet_sm\" title=\"П2\"><span class=\"c-bets__inner\">1.62</span></span><span class=\"non c-bets__bet c-bets__bet_sm\"><span class=\"c-bets__inner\">-</span></span><span class=\"non c-bets__bet c-bets__bet_sm\"><span class=\"c-bets__inner\">-</span></span><span class=\"non c-bets__bet c-bets__bet_sm\"><span class=\"c-bets__inner\">-</span></span><span class=\"c-bets__bet c-bets__bet_coef c-bets__bet_sm\" title=\"Тотал больше\"><span class=\"c-bets__inner\">2.205</span></span><span class=\"c-bets__bet non c-bets__bet_sm static-event num\"><span class=\"c-bets__inner\">2.5</span> <!-- --></span><span class=\"c-bets__bet c-bets__bet_coef c-bets__bet_sm\" title=\"Тотал меньше\"><span class=\"c-bets__inner\">1.75</span></span><span class=\"non c-bets__bet c-bets__bet_sm\"><span class=\"c-bets__inner\">-</span></span><span class=\"c-bets__bet non c-bets__bet_sm static-event\"><span class=\"c-bets__inner\">-</span> <!-- --></span><span class=\"non c-bets__bet c-bets__bet_sm\"><span class=\"c-bets__inner\">-</span></span></div></div> <!-- --> <!-- --></div>]"
      ]
     },
     "execution_count": 21,
     "metadata": {},
     "output_type": "execute_result"
    }
   ],
   "source": [
    "event_inf_tags"
   ]
  },
  {
   "cell_type": "code",
   "execution_count": 10,
   "id": "d92329fb-e17a-4eb3-9a08-c343b315fb1f",
   "metadata": {},
   "outputs": [
    {
     "data": {
      "text/plain": [
       "array([], dtype=float64)"
      ]
     },
     "execution_count": 10,
     "metadata": {},
     "output_type": "execute_result"
    }
   ],
   "source": [
    "names = np.array([[item.get_text().strip() for item in event.find_all('div',{'class':'c-champ-event__player'})] for event in event_inf_tags])\n",
    "names"
   ]
  },
  {
   "cell_type": "code",
   "execution_count": 47,
   "id": "04dbba37-577c-4a2a-b75e-f4d77b114e5a",
   "metadata": {},
   "outputs": [
    {
     "data": {
      "text/plain": [
       "array([['2.60', '1.52'],\n",
       "       ['1.28', '3.85'],\n",
       "       ['1.25', '4.15'],\n",
       "       ['1.78', '2.08'],\n",
       "       ['1.25', '4.10'],\n",
       "       ['2.06', '1.80'],\n",
       "       ['1.29', '3.75'],\n",
       "       ['2.52', '1.55'],\n",
       "       ['1.38', '3.15'],\n",
       "       ['1.48', '2.75'],\n",
       "       ['1.48', '2.75'],\n",
       "       ['2.40', '1.60'],\n",
       "       ['2.00', '1.85'],\n",
       "       ['1.29', '3.75']], dtype='<U4')"
      ]
     },
     "execution_count": 47,
     "metadata": {},
     "output_type": "execute_result"
    }
   ],
   "source": [
    "coefs = [[item.get_text().strip() for item in event.find_all('div',{'class':'ui-top-odd'})] for event in event_inf_tags]\n",
    "coefs = np.array([[it[0], it[2]] for it in coefs])\n",
    "coefs"
   ]
  },
  {
   "cell_type": "code",
   "execution_count": 49,
   "id": "d930ebc8-997c-473d-a791-612f4c482e1b",
   "metadata": {},
   "outputs": [
    {
     "data": {
      "text/plain": [
       "array([['Карлос Вергара', 'Оде Осборн', '2.60', '1.52'],\n",
       "       ['Мелсик Багдасарян', 'Бруно Соуза', '1.28', '3.85'],\n",
       "       ['Дастин Джакоби', 'Джон Аллан Арте', '1.25', '4.15'],\n",
       "       ['Джан Вилланте', 'Крис Барнетт', '1.78', '2.08'],\n",
       "       ['Иан Гарри', 'Джордан Уильямс', '1.25', '4.10'],\n",
       "       ['Эдмен Шахбазян', 'Нассурдин Имавов', '2.06', '1.80'],\n",
       "       ['Фил Хоус', 'Крис Кертис', '1.29', '3.75'],\n",
       "       ['Аль Яквинта', 'Бобби Грин', '2.52', '1.55'],\n",
       "       ['Алекс Перейра', 'Андреас Михайлидис', '1.38', '3.15'],\n",
       "       ['Джастин Гейджи', 'Майкл Чендлер', '1.48', '2.75'],\n",
       "       ['Шэйн Бургос', 'Билли Куарантилло', '1.48', '2.75'],\n",
       "       ['Фрэнки Эдгар', 'Марлон Вера', '2.40', '1.60'],\n",
       "       ['Роуз Намаюнас', 'Чжан Вэйли', '2.00', '1.85'],\n",
       "       ['Камару Усман', 'Колби Ковингтон', '1.29', '3.75']], dtype='<U18')"
      ]
     },
     "execution_count": 49,
     "metadata": {},
     "output_type": "execute_result"
    }
   ],
   "source": [
    "ar = np.concatenate([names, coefs], axis=1)\n",
    "ar "
   ]
  },
  {
   "cell_type": "code",
   "execution_count": 54,
   "id": "47216b6d-b86a-4eae-b817-de9fa42fadd7",
   "metadata": {},
   "outputs": [
    {
     "data": {
      "text/html": [
       "<div>\n",
       "<style scoped>\n",
       "    .dataframe tbody tr th:only-of-type {\n",
       "        vertical-align: middle;\n",
       "    }\n",
       "\n",
       "    .dataframe tbody tr th {\n",
       "        vertical-align: top;\n",
       "    }\n",
       "\n",
       "    .dataframe thead th {\n",
       "        text-align: right;\n",
       "    }\n",
       "</style>\n",
       "<table border=\"1\" class=\"dataframe\">\n",
       "  <thead>\n",
       "    <tr style=\"text-align: right;\">\n",
       "      <th></th>\n",
       "      <th>fighter1</th>\n",
       "      <th>fighter2</th>\n",
       "      <th>coef1</th>\n",
       "      <th>coef2</th>\n",
       "    </tr>\n",
       "  </thead>\n",
       "  <tbody>\n",
       "    <tr>\n",
       "      <th>0</th>\n",
       "      <td>Карлос Вергара</td>\n",
       "      <td>Оде Осборн</td>\n",
       "      <td>2.60</td>\n",
       "      <td>1.52</td>\n",
       "    </tr>\n",
       "    <tr>\n",
       "      <th>1</th>\n",
       "      <td>Мелсик Багдасарян</td>\n",
       "      <td>Бруно Соуза</td>\n",
       "      <td>1.28</td>\n",
       "      <td>3.85</td>\n",
       "    </tr>\n",
       "    <tr>\n",
       "      <th>2</th>\n",
       "      <td>Дастин Джакоби</td>\n",
       "      <td>Джон Аллан Арте</td>\n",
       "      <td>1.25</td>\n",
       "      <td>4.15</td>\n",
       "    </tr>\n",
       "    <tr>\n",
       "      <th>3</th>\n",
       "      <td>Джан Вилланте</td>\n",
       "      <td>Крис Барнетт</td>\n",
       "      <td>1.78</td>\n",
       "      <td>2.08</td>\n",
       "    </tr>\n",
       "    <tr>\n",
       "      <th>4</th>\n",
       "      <td>Иан Гарри</td>\n",
       "      <td>Джордан Уильямс</td>\n",
       "      <td>1.25</td>\n",
       "      <td>4.10</td>\n",
       "    </tr>\n",
       "    <tr>\n",
       "      <th>5</th>\n",
       "      <td>Эдмен Шахбазян</td>\n",
       "      <td>Нассурдин Имавов</td>\n",
       "      <td>2.06</td>\n",
       "      <td>1.80</td>\n",
       "    </tr>\n",
       "    <tr>\n",
       "      <th>6</th>\n",
       "      <td>Фил Хоус</td>\n",
       "      <td>Крис Кертис</td>\n",
       "      <td>1.29</td>\n",
       "      <td>3.75</td>\n",
       "    </tr>\n",
       "    <tr>\n",
       "      <th>7</th>\n",
       "      <td>Аль Яквинта</td>\n",
       "      <td>Бобби Грин</td>\n",
       "      <td>2.52</td>\n",
       "      <td>1.55</td>\n",
       "    </tr>\n",
       "    <tr>\n",
       "      <th>8</th>\n",
       "      <td>Алекс Перейра</td>\n",
       "      <td>Андреас Михайлидис</td>\n",
       "      <td>1.38</td>\n",
       "      <td>3.15</td>\n",
       "    </tr>\n",
       "    <tr>\n",
       "      <th>9</th>\n",
       "      <td>Джастин Гейджи</td>\n",
       "      <td>Майкл Чендлер</td>\n",
       "      <td>1.48</td>\n",
       "      <td>2.75</td>\n",
       "    </tr>\n",
       "    <tr>\n",
       "      <th>10</th>\n",
       "      <td>Шэйн Бургос</td>\n",
       "      <td>Билли Куарантилло</td>\n",
       "      <td>1.48</td>\n",
       "      <td>2.75</td>\n",
       "    </tr>\n",
       "    <tr>\n",
       "      <th>11</th>\n",
       "      <td>Фрэнки Эдгар</td>\n",
       "      <td>Марлон Вера</td>\n",
       "      <td>2.40</td>\n",
       "      <td>1.60</td>\n",
       "    </tr>\n",
       "    <tr>\n",
       "      <th>12</th>\n",
       "      <td>Роуз Намаюнас</td>\n",
       "      <td>Чжан Вэйли</td>\n",
       "      <td>2.00</td>\n",
       "      <td>1.85</td>\n",
       "    </tr>\n",
       "    <tr>\n",
       "      <th>13</th>\n",
       "      <td>Камару Усман</td>\n",
       "      <td>Колби Ковингтон</td>\n",
       "      <td>1.29</td>\n",
       "      <td>3.75</td>\n",
       "    </tr>\n",
       "  </tbody>\n",
       "</table>\n",
       "</div>"
      ],
      "text/plain": [
       "             fighter1            fighter2 coef1 coef2\n",
       "0      Карлос Вергара          Оде Осборн  2.60  1.52\n",
       "1   Мелсик Багдасарян         Бруно Соуза  1.28  3.85\n",
       "2      Дастин Джакоби     Джон Аллан Арте  1.25  4.15\n",
       "3       Джан Вилланте        Крис Барнетт  1.78  2.08\n",
       "4           Иан Гарри     Джордан Уильямс  1.25  4.10\n",
       "5      Эдмен Шахбазян    Нассурдин Имавов  2.06  1.80\n",
       "6            Фил Хоус         Крис Кертис  1.29  3.75\n",
       "7         Аль Яквинта          Бобби Грин  2.52  1.55\n",
       "8       Алекс Перейра  Андреас Михайлидис  1.38  3.15\n",
       "9      Джастин Гейджи       Майкл Чендлер  1.48  2.75\n",
       "10        Шэйн Бургос   Билли Куарантилло  1.48  2.75\n",
       "11       Фрэнки Эдгар         Марлон Вера  2.40  1.60\n",
       "12      Роуз Намаюнас          Чжан Вэйли  2.00  1.85\n",
       "13       Камару Усман     Колби Ковингтон  1.29  3.75"
      ]
     },
     "execution_count": 54,
     "metadata": {},
     "output_type": "execute_result"
    }
   ],
   "source": [
    "fighter_coef_df = pd.DataFrame(ar, columns=['fighter1', 'fighter2', 'coef1', 'coef2'])\n",
    "fighter_coef_df"
   ]
  },
  {
   "cell_type": "code",
   "execution_count": 56,
   "id": "ef6de82f-1731-431a-8319-87d02b531c6a",
   "metadata": {},
   "outputs": [],
   "source": [
    "fighter_coef_df.to_csv('coefs_ufc268.csv', index=False)"
   ]
  },
  {
   "cell_type": "code",
   "execution_count": null,
   "id": "93b49944-ced7-4569-a9b9-a009e4374bd8",
   "metadata": {},
   "outputs": [],
   "source": []
  }
 ],
 "metadata": {
  "kernelspec": {
   "display_name": "Python 3",
   "language": "python",
   "name": "python3"
  },
  "language_info": {
   "codemirror_mode": {
    "name": "ipython",
    "version": 3
   },
   "file_extension": ".py",
   "mimetype": "text/x-python",
   "name": "python",
   "nbconvert_exporter": "python",
   "pygments_lexer": "ipython3",
   "version": "3.7.10"
  }
 },
 "nbformat": 4,
 "nbformat_minor": 5
}
