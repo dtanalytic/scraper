{
 "cells": [
  {
   "cell_type": "code",
   "execution_count": 16,
   "id": "2f1f43db-2ee4-4471-8aaf-a95ad10fd460",
   "metadata": {},
   "outputs": [],
   "source": [
    "from sklearn.tree import DecisionTreeClassifier\n",
    "from sklearn.metrics import classification_report\n",
    "from sklearn.model_selection import learning_curve\n",
    "import re\n",
    "import joblib\n",
    "import pandas as pd\n",
    "import numpy as np\n",
    "import matplotlib.pyplot as plt\n",
    "import seaborn as sns\n",
    "sns.set()"
   ]
  },
  {
   "cell_type": "code",
   "execution_count": 17,
   "id": "fa255d71-5df5-4116-8e9a-24e25be2a789",
   "metadata": {},
   "outputs": [],
   "source": [
    "df_feat = joblib.load('df_feat_med.pkl')\n",
    "sign_cols = [it for it in df_feat.columns if re.search('_stat_rol_sub', it) or it in ['Fighter', 'Opponent', 'Date', 'Result'] ]\n",
    "# sign_cols = ['wrest_w_stat_rol_sub', 'wrest_l_stat_rol_sub', 'KO_w_stat_rol_sub',\n",
    "#        'KO_l_stat_rol_sub', 'dec_w_stat_rol_sub', 'dec_l_stat_rol_sub', 'Fighter', 'Opponent', 'Date', 'Result']\n",
    "X = df_feat[sign_cols]"
   ]
  },
  {
   "cell_type": "code",
   "execution_count": 18,
   "id": "1f3c87ef-0fa7-402b-a404-0dce37767ff9",
   "metadata": {},
   "outputs": [],
   "source": [
    "X_tr = X[X['Date']<pd.Timestamp('2021-09-01')].drop(['Fighter', 'Opponent', 'Date', 'Result'], axis=1)\n",
    "X_ts = X[X['Date']>=pd.Timestamp('2021-09-01')].drop(['Fighter', 'Opponent', 'Date', 'Result'], axis=1)\n",
    "\n",
    "# X_tr = X.loc[X['Date']<pd.Timestamp('2021-09-01'), ['wrest_w_stat_rol_sub', 'KO_w_stat_rol_sub', 'dec_w_stat_rol_sub',\n",
    "#        'ctrl_dam_stat_rol_sub', 'sig_str_stat_rol_sub']]\n",
    "# X_ts = X.loc[X['Date']>=pd.Timestamp('2021-09-01'), ['wrest_w_stat_rol_sub', 'KO_w_stat_rol_sub', 'dec_w_stat_rol_sub',\n",
    "#        'ctrl_dam_stat_rol_sub', 'sig_str_stat_rol_sub']]\n",
    "\n",
    "feat_cols = X_ts.columns\n",
    "y_tr = X.loc[X['Date']<pd.Timestamp('2021-09-01'), 'Result']\n",
    "y_ts = X.loc[X['Date']>=pd.Timestamp('2021-09-01'), 'Result']"
   ]
  },
  {
   "cell_type": "markdown",
   "id": "52696484-4220-4500-a42a-cf08a948563f",
   "metadata": {},
   "source": [
    "# Tried to select features"
   ]
  },
  {
   "cell_type": "code",
   "execution_count": 23,
   "id": "8955943d-2477-4978-9384-5e63d18c30df",
   "metadata": {},
   "outputs": [],
   "source": [
    "# Select K Best not helped\n",
    "from sklearn.feature_selection import SelectKBest\n",
    "selector = SelectKBest(k=20)\n",
    "X_tr = selector.fit_transform(X_tr, y_tr)\n",
    "X_ts = selector.transform(X_ts)"
   ]
  },
  {
   "cell_type": "code",
   "execution_count": 35,
   "id": "9ff8a33a-1a93-496e-a1d7-817d967b7602",
   "metadata": {},
   "outputs": [],
   "source": [
    "# select lda \n",
    "from sklearn.discriminant_analysis import LinearDiscriminantAnalysis\n",
    "lda = LinearDiscriminantAnalysis(n_components=1)\n",
    "X_tr = lda.fit(X_tr, y_tr).transform(X_tr)\n",
    "X_ts = lda.transform(X_ts)"
   ]
  },
  {
   "cell_type": "code",
   "execution_count": 42,
   "id": "a05ff3db-d872-4d9d-8c5d-2d9c7505fba4",
   "metadata": {
    "collapsed": true,
    "jupyter": {
     "outputs_hidden": true
    },
    "tags": []
   },
   "outputs": [
    {
     "ename": "ValueError",
     "evalue": "Negative values in data passed to NMF (input X)",
     "output_type": "error",
     "traceback": [
      "\u001b[1;31m---------------------------------------------------------------------------\u001b[0m",
      "\u001b[1;31mValueError\u001b[0m                                Traceback (most recent call last)",
      "\u001b[1;32m<ipython-input-42-6d7e82cd7812>\u001b[0m in \u001b[0;36m<module>\u001b[1;34m\u001b[0m\n\u001b[0;32m      2\u001b[0m \u001b[1;32mfrom\u001b[0m \u001b[0msklearn\u001b[0m\u001b[1;33m.\u001b[0m\u001b[0mdecomposition\u001b[0m \u001b[1;32mimport\u001b[0m \u001b[0mNMF\u001b[0m\u001b[1;33m\u001b[0m\u001b[1;33m\u001b[0m\u001b[0m\n\u001b[0;32m      3\u001b[0m \u001b[0mnmf\u001b[0m \u001b[1;33m=\u001b[0m \u001b[0mNMF\u001b[0m\u001b[1;33m(\u001b[0m\u001b[0mn_components\u001b[0m \u001b[1;33m=\u001b[0m \u001b[1;36m5\u001b[0m\u001b[1;33m)\u001b[0m\u001b[1;33m\u001b[0m\u001b[1;33m\u001b[0m\u001b[0m\n\u001b[1;32m----> 4\u001b[1;33m \u001b[0mX_tr\u001b[0m \u001b[1;33m=\u001b[0m \u001b[0mnmf\u001b[0m\u001b[1;33m.\u001b[0m\u001b[0mfit_transform\u001b[0m\u001b[1;33m(\u001b[0m\u001b[0mX_tr\u001b[0m\u001b[1;33m)\u001b[0m\u001b[1;33m\u001b[0m\u001b[1;33m\u001b[0m\u001b[0m\n\u001b[0m\u001b[0;32m      5\u001b[0m \u001b[0mX_ts\u001b[0m \u001b[1;33m=\u001b[0m \u001b[0mnmf\u001b[0m\u001b[1;33m.\u001b[0m\u001b[0mtransform\u001b[0m\u001b[1;33m(\u001b[0m\u001b[0mX_ts\u001b[0m\u001b[1;33m)\u001b[0m\u001b[1;33m\u001b[0m\u001b[1;33m\u001b[0m\u001b[0m\n",
      "\u001b[1;32mC:\\tools\\Anaconda3\\envs\\snab\\lib\\site-packages\\sklearn\\decomposition\\_nmf.py\u001b[0m in \u001b[0;36mfit_transform\u001b[1;34m(self, X, y, W, H)\u001b[0m\n\u001b[0;32m   1536\u001b[0m \u001b[1;33m\u001b[0m\u001b[0m\n\u001b[0;32m   1537\u001b[0m         \u001b[1;32mwith\u001b[0m \u001b[0mconfig_context\u001b[0m\u001b[1;33m(\u001b[0m\u001b[0massume_finite\u001b[0m\u001b[1;33m=\u001b[0m\u001b[1;32mTrue\u001b[0m\u001b[1;33m)\u001b[0m\u001b[1;33m:\u001b[0m\u001b[1;33m\u001b[0m\u001b[1;33m\u001b[0m\u001b[0m\n\u001b[1;32m-> 1538\u001b[1;33m             \u001b[0mW\u001b[0m\u001b[1;33m,\u001b[0m \u001b[0mH\u001b[0m\u001b[1;33m,\u001b[0m \u001b[0mn_iter\u001b[0m \u001b[1;33m=\u001b[0m \u001b[0mself\u001b[0m\u001b[1;33m.\u001b[0m\u001b[0m_fit_transform\u001b[0m\u001b[1;33m(\u001b[0m\u001b[0mX\u001b[0m\u001b[1;33m,\u001b[0m \u001b[0mW\u001b[0m\u001b[1;33m=\u001b[0m\u001b[0mW\u001b[0m\u001b[1;33m,\u001b[0m \u001b[0mH\u001b[0m\u001b[1;33m=\u001b[0m\u001b[0mH\u001b[0m\u001b[1;33m)\u001b[0m\u001b[1;33m\u001b[0m\u001b[1;33m\u001b[0m\u001b[0m\n\u001b[0m\u001b[0;32m   1539\u001b[0m \u001b[1;33m\u001b[0m\u001b[0m\n\u001b[0;32m   1540\u001b[0m         self.reconstruction_err_ = _beta_divergence(\n",
      "\u001b[1;32mC:\\tools\\Anaconda3\\envs\\snab\\lib\\site-packages\\sklearn\\decomposition\\_nmf.py\u001b[0m in \u001b[0;36m_fit_transform\u001b[1;34m(self, X, y, W, H, update_H)\u001b[0m\n\u001b[0;32m   1582\u001b[0m             \u001b[0mActual\u001b[0m \u001b[0mnumber\u001b[0m \u001b[0mof\u001b[0m \u001b[0miterations\u001b[0m\u001b[1;33m.\u001b[0m\u001b[1;33m\u001b[0m\u001b[1;33m\u001b[0m\u001b[0m\n\u001b[0;32m   1583\u001b[0m         \"\"\"\n\u001b[1;32m-> 1584\u001b[1;33m         \u001b[0mcheck_non_negative\u001b[0m\u001b[1;33m(\u001b[0m\u001b[0mX\u001b[0m\u001b[1;33m,\u001b[0m \u001b[1;34m\"NMF (input X)\"\u001b[0m\u001b[1;33m)\u001b[0m\u001b[1;33m\u001b[0m\u001b[1;33m\u001b[0m\u001b[0m\n\u001b[0m\u001b[0;32m   1585\u001b[0m \u001b[1;33m\u001b[0m\u001b[0m\n\u001b[0;32m   1586\u001b[0m         \u001b[1;31m# check parameters\u001b[0m\u001b[1;33m\u001b[0m\u001b[1;33m\u001b[0m\u001b[1;33m\u001b[0m\u001b[0m\n",
      "\u001b[1;32mC:\\tools\\Anaconda3\\envs\\snab\\lib\\site-packages\\sklearn\\utils\\validation.py\u001b[0m in \u001b[0;36mcheck_non_negative\u001b[1;34m(X, whom)\u001b[0m\n\u001b[0;32m   1234\u001b[0m \u001b[1;33m\u001b[0m\u001b[0m\n\u001b[0;32m   1235\u001b[0m     \u001b[1;32mif\u001b[0m \u001b[0mX_min\u001b[0m \u001b[1;33m<\u001b[0m \u001b[1;36m0\u001b[0m\u001b[1;33m:\u001b[0m\u001b[1;33m\u001b[0m\u001b[1;33m\u001b[0m\u001b[0m\n\u001b[1;32m-> 1236\u001b[1;33m         \u001b[1;32mraise\u001b[0m \u001b[0mValueError\u001b[0m\u001b[1;33m(\u001b[0m\u001b[1;34m\"Negative values in data passed to %s\"\u001b[0m \u001b[1;33m%\u001b[0m \u001b[0mwhom\u001b[0m\u001b[1;33m)\u001b[0m\u001b[1;33m\u001b[0m\u001b[1;33m\u001b[0m\u001b[0m\n\u001b[0m\u001b[0;32m   1237\u001b[0m \u001b[1;33m\u001b[0m\u001b[0m\n\u001b[0;32m   1238\u001b[0m \u001b[1;33m\u001b[0m\u001b[0m\n",
      "\u001b[1;31mValueError\u001b[0m: Negative values in data passed to NMF (input X)"
     ]
    }
   ],
   "source": [
    "# not used because of neg values\n",
    "from sklearn.decomposition import NMF\n",
    "nmf = NMF(n_components = 5)\n",
    "X_tr = nmf.fit_transform(X_tr)\n",
    "X_ts = nmf.transform(X_ts)"
   ]
  },
  {
   "cell_type": "code",
   "execution_count": 19,
   "id": "d5fecbab-3232-47b3-83eb-7a9fd08ea39d",
   "metadata": {},
   "outputs": [],
   "source": [
    "clf = DecisionTreeClassifier(max_depth=2)\n",
    "clf.fit(X_tr, y_tr)\n",
    "y_p = clf.predict(X_ts)"
   ]
  },
  {
   "cell_type": "code",
   "execution_count": 20,
   "id": "0bf12c4f-817d-4129-945b-057a46e1a4b6",
   "metadata": {},
   "outputs": [
    {
     "name": "stdout",
     "output_type": "stream",
     "text": [
      "              precision    recall  f1-score   support\n",
      "\n",
      "           0       0.54      0.77      0.63        48\n",
      "           1       0.59      0.33      0.43        48\n",
      "\n",
      "    accuracy                           0.55        96\n",
      "   macro avg       0.56      0.55      0.53        96\n",
      "weighted avg       0.56      0.55      0.53        96\n",
      "\n"
     ]
    }
   ],
   "source": [
    "print(classification_report(y_ts, y_p))"
   ]
  },
  {
   "cell_type": "code",
   "execution_count": 12,
   "id": "39a4e3b1-c90a-45c6-87a5-c4168ffd2d90",
   "metadata": {},
   "outputs": [],
   "source": [
    "def draw_learning_curve(estim,x,y,sizes_l, cv=3):\n",
    "    train_sizes,train_scores, test_scores = learning_curve(estim, x, y, train_sizes=sizes_l,cv=cv,n_jobs=-1)\n",
    "    train_mean = np.mean(train_scores,axis=1)\n",
    "    train_std = np.std(train_scores, axis=1)\n",
    "    test_mean = np.mean(test_scores, axis =1)\n",
    "    test_std = np.std(test_scores, axis=1)\n",
    "    plt.plot(train_sizes,train_mean, color='blue', marker='o', markersize=5, label = 'правильность при обучении')\n",
    "    plt.fill_between(train_sizes, train_mean+train_std , train_mean - train_std,alpha = 0.2,color='blue')\n",
    "    plt.plot(train_sizes,test_mean, color='green',marker='s', markersize=5, label='правильность при проверке')\n",
    "    plt.fill_between(train_sizes, test_mean+test_std, test_mean - test_std, alpha=0.2, color = 'green')\n",
    "    plt.grid()\n",
    "    plt.xlabel('количество обучающих образцов')\n",
    "    plt.ylabel('правильность')\n",
    "    plt.legend()\n",
    "    plt.ylim([0.5, 1])\n",
    "    plt.show()"
   ]
  },
  {
   "cell_type": "code",
   "execution_count": 13,
   "id": "4ebd1462-08e3-4c62-9813-b15306c2e01f",
   "metadata": {},
   "outputs": [
    {
     "data": {
      "image/png": "[encoded data removed]",
      "text/plain": [
       "<Figure size 432x288 with 1 Axes>"
      ]
     },
     "metadata": {},
     "output_type": "display_data"
    }
   ],
   "source": [
    "draw_learning_curve(clf, X_tr, y_tr, sizes_l=[0.1, 0.5,0.6,0.9, 1])"
   ]
  },
  {
   "cell_type": "code",
   "execution_count": 14,
   "id": "9ed5b495-8825-4209-b506-442b79a100a3",
   "metadata": {},
   "outputs": [
    {
     "name": "stdout",
     "output_type": "stream",
     "text": [
      "              precision    recall  f1-score   support\n",
      "\n",
      "           0       0.55      0.76      0.63      2464\n",
      "           1       0.60      0.37      0.46      2464\n",
      "\n",
      "    accuracy                           0.56      4928\n",
      "   macro avg       0.57      0.56      0.55      4928\n",
      "weighted avg       0.57      0.56      0.55      4928\n",
      "\n"
     ]
    }
   ],
   "source": [
    "print(classification_report(y_tr, clf.predict(X_tr)))"
   ]
  },
  {
   "cell_type": "markdown",
   "id": "c685a871-94ec-426f-89bf-aa7ef4350037",
   "metadata": {},
   "source": [
    "# Draw Feature importances"
   ]
  },
  {
   "cell_type": "code",
   "execution_count": 21,
   "id": "a217f394-ec74-40c2-908e-ef5fd65c7588",
   "metadata": {},
   "outputs": [
    {
     "name": "stderr",
     "output_type": "stream",
     "text": [
      "C:\\tools\\Anaconda3\\envs\\snab\\lib\\site-packages\\seaborn\\_decorators.py:43: FutureWarning: Pass the following variables as keyword args: x, y. From version 0.12, the only valid positional argument will be `data`, and passing other arguments without an explicit keyword will result in an error or misinterpretation.\n",
      "  FutureWarning\n"
     ]
    },
    {
     "data": {
      "text/plain": [
       "<AxesSubplot:>"
      ]
     },
     "execution_count": 21,
     "metadata": {},
     "output_type": "execute_result"
    },
    {
     "data": {
      "image/png": "[encoded data removed]",
      "text/plain": [
       "<Figure size 432x288 with 1 Axes>"
      ]
     },
     "metadata": {},
     "output_type": "display_data"
    }
   ],
   "source": [
    "n = 5\n",
    "idx = np.argsort(clf.feature_importances_)[::-1]\n",
    "x = feat_cols[idx[:n]]\n",
    "y = clf.feature_importances_[idx[:n]]\n",
    "\n",
    "sns.barplot(y,x)"
   ]
  },
  {
   "cell_type": "markdown",
   "id": "e46526e7-63a4-4266-87e6-ff4253290985",
   "metadata": {},
   "source": [
    "# Hyper Param Opt"
   ]
  },
  {
   "cell_type": "code",
   "execution_count": 12,
   "id": "7209f61f-5e30-4565-89dd-878e5d08af57",
   "metadata": {},
   "outputs": [
    {
     "name": "stderr",
     "output_type": "stream",
     "text": [
      "C:\\tools\\Anaconda3\\envs\\snab\\lib\\site-packages\\ipykernel_launcher.py:8: ExperimentalWarning: OptunaSearchCV is experimental (supported from v0.17.0). The interface can change in the future.\n",
      "  \n",
      "\u001b[32m[I 2021-11-05 08:11:53,432]\u001b[0m A new study created in memory with name: no-name-167c4a75-c9f6-487d-af56-6c5ad17ce7f4\u001b[0m\n",
      "\u001b[32m[I 2021-11-05 08:11:53,493]\u001b[0m Trial 0 finished with value: 0.5379623206227577 and parameters: {'max_depth': 6, 'min_samples_split': 9}. Best is trial 0 with value: 0.5379623206227577.\u001b[0m\n",
      "\u001b[32m[I 2021-11-05 08:11:53,558]\u001b[0m Trial 1 finished with value: 0.5233868487558148 and parameters: {'max_depth': 11, 'min_samples_split': 8}. Best is trial 0 with value: 0.5379623206227577.\u001b[0m\n",
      "\u001b[32m[I 2021-11-05 08:11:53,641]\u001b[0m Trial 2 finished with value: 0.5186064951538596 and parameters: {'max_depth': 11, 'min_samples_split': 6}. Best is trial 0 with value: 0.5379623206227577.\u001b[0m\n",
      "\u001b[32m[I 2021-11-05 08:11:53,725]\u001b[0m Trial 3 finished with value: 0.5194391620720061 and parameters: {'max_depth': 11, 'min_samples_split': 6}. Best is trial 0 with value: 0.5379623206227577.\u001b[0m\n",
      "\u001b[32m[I 2021-11-05 08:11:53,822]\u001b[0m Trial 4 finished with value: 0.5215876640619859 and parameters: {'max_depth': 16, 'min_samples_split': 5}. Best is trial 0 with value: 0.5379623206227577.\u001b[0m\n",
      "\u001b[32m[I 2021-11-05 08:11:53,856]\u001b[0m Trial 5 finished with value: 0.5436373456026649 and parameters: {'max_depth': 1, 'min_samples_split': 4}. Best is trial 5 with value: 0.5436373456026649.\u001b[0m\n",
      "\u001b[32m[I 2021-11-05 08:11:53,926]\u001b[0m Trial 6 finished with value: 0.5130784862646218 and parameters: {'max_depth': 11, 'min_samples_split': 3}. Best is trial 5 with value: 0.5436373456026649.\u001b[0m\n",
      "\u001b[32m[I 2021-11-05 08:11:54,009]\u001b[0m Trial 7 finished with value: 0.5185966716136433 and parameters: {'max_depth': 11, 'min_samples_split': 4}. Best is trial 5 with value: 0.5436373456026649.\u001b[0m\n",
      "\u001b[32m[I 2021-11-05 08:11:54,091]\u001b[0m Trial 8 finished with value: 0.5199581087516664 and parameters: {'max_depth': 11, 'min_samples_split': 8}. Best is trial 5 with value: 0.5436373456026649.\u001b[0m\n",
      "\u001b[32m[I 2021-11-05 08:11:54,175]\u001b[0m Trial 9 finished with value: 0.5165843971306666 and parameters: {'max_depth': 11, 'min_samples_split': 6}. Best is trial 5 with value: 0.5436373456026649.\u001b[0m\n"
     ]
    },
    {
     "data": {
      "text/plain": [
       "OptunaSearchCV(estimator=DecisionTreeClassifier(),\n",
       "               param_distributions={'max_depth': IntUniformDistribution(high=16, low=1, step=5),\n",
       "                                    'min_samples_split': IntUniformDistribution(high=9, low=3, step=1)},\n",
       "               scoring='roc_auc')"
      ]
     },
     "execution_count": 12,
     "metadata": {},
     "output_type": "execute_result"
    }
   ],
   "source": [
    "import optuna\n",
    "from optuna.integration import OptunaSearchCV\n",
    "\n",
    "param_distrs={\n",
    "            'max_depth':optuna.distributions.IntUniformDistribution(1, 16, step=5),\n",
    "            'min_samples_split': optuna.distributions.IntUniformDistribution(3, 9, step=1)\n",
    "            }\n",
    "opt = OptunaSearchCV(clf, param_distrs, scoring='roc_auc')\n",
    "opt.fit(X_tr, y_tr)"
   ]
  },
  {
   "cell_type": "code",
   "execution_count": 13,
   "id": "2f48433a-9a08-464d-b9ac-a73ccfc61aac",
   "metadata": {},
   "outputs": [
    {
     "data": {
      "text/plain": [
       "DecisionTreeClassifier(max_depth=1, min_samples_split=4)"
      ]
     },
     "execution_count": 13,
     "metadata": {},
     "output_type": "execute_result"
    }
   ],
   "source": [
    "opt.best_estimator_"
   ]
  },
  {
   "cell_type": "code",
   "execution_count": 14,
   "id": "a59e1daf-50f9-4aad-8cd1-264521486906",
   "metadata": {},
   "outputs": [
    {
     "name": "stdout",
     "output_type": "stream",
     "text": [
      "              precision    recall  f1-score   support\n",
      "\n",
      "           0       0.54      0.66      0.60      2464\n",
      "           1       0.57      0.44      0.50      2464\n",
      "\n",
      "    accuracy                           0.55      4928\n",
      "   macro avg       0.55      0.55      0.55      4928\n",
      "weighted avg       0.55      0.55      0.55      4928\n",
      "\n"
     ]
    }
   ],
   "source": [
    "print(classification_report(y_tr, opt.best_estimator_.predict(X_tr)))"
   ]
  },
  {
   "cell_type": "code",
   "execution_count": 15,
   "id": "279f3185-03d6-4491-bdb8-626da134cbe8",
   "metadata": {},
   "outputs": [
    {
     "name": "stdout",
     "output_type": "stream",
     "text": [
      "              precision    recall  f1-score   support\n",
      "\n",
      "           0       0.55      0.73      0.62        48\n",
      "           1       0.59      0.40      0.48        48\n",
      "\n",
      "    accuracy                           0.56        96\n",
      "   macro avg       0.57      0.56      0.55        96\n",
      "weighted avg       0.57      0.56      0.55        96\n",
      "\n"
     ]
    }
   ],
   "source": [
    "print(classification_report(y_ts, opt.best_estimator_.predict(X_ts)))"
   ]
  },
  {
   "cell_type": "code",
   "execution_count": null,
   "id": "1013c0cd-dfe7-4893-8d75-be339fd129f2",
   "metadata": {},
   "outputs": [],
   "source": []
  }
 ],
 "metadata": {
  "kernelspec": {
   "display_name": "Python 3",
   "language": "python",
   "name": "python3"
  },
  "language_info": {
   "codemirror_mode": {
    "name": "ipython",
    "version": 3
   },
   "file_extension": ".py",
   "mimetype": "text/x-python",
   "name": "python",
   "nbconvert_exporter": "python",
   "pygments_lexer": "ipython3",
   "version": "3.7.10"
  }
 },
 "nbformat": 4,
 "nbformat_minor": 5
}
