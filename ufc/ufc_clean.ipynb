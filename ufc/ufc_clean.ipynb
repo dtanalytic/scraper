{
 "cells": [
  {
   "cell_type": "code",
   "execution_count": 193,
   "id": "50912c23-cb3d-42f2-841b-9bd52327cfbf",
   "metadata": {},
   "outputs": [],
   "source": [
    "import pandas as pd\n",
    "import re\n",
    "import joblib\n",
    "import numpy as np\n",
    "from sklearn.model_selection import learning_curve"
   ]
  },
  {
   "cell_type": "code",
   "execution_count": 194,
   "id": "1c80e40f-d5af-4ec0-9a96-956d48973fcf",
   "metadata": {
    "tags": []
   },
   "outputs": [],
   "source": [
    "# set display options\n",
    "pd.options.display.max_columns = 100"
   ]
  },
  {
   "cell_type": "code",
   "execution_count": 195,
   "id": "bfbe8c4e-cbcc-4515-b39a-671dd693815a",
   "metadata": {},
   "outputs": [],
   "source": [
    "# gen ops - drop_duples,  date, sort\n",
    "df = pd.read_csv('c:\\work\\dev\\python\\progs\\scraper\\items.csv')\n",
    "df['Date'] = pd.to_datetime(df['Date'], format='%Y-%m-%d')\n",
    "df.drop_duplicates(subset=['Event','Fighter_left', 'Fighter_right', 'Date'], inplace=True)\n",
    "df.sort_values(by='Date', inplace=True)\n",
    "# df.to_csv('c:\\work\\dev\\python\\progs\\scraper\\items.csv', index=False)"
   ]
  },
  {
   "cell_type": "code",
   "execution_count": 196,
   "id": "1f3e31d9-ac0e-4e37-b65a-0eb772244ee0",
   "metadata": {},
   "outputs": [],
   "source": [
    "# get judges cards\n",
    "df['Details:'] = df['Details:'].str.replace(r'\\s{2,}', r'_', regex=True)\n",
    "df['Details:'] = df['Details:'].str.replace(r'\\._', r'.', regex=True)\n",
    "df['Details:'] = df['Details:'].str.replace(r'\\.;', r'.', regex=True)\n",
    "\n",
    "df['judges'] = df['Details:'].str.findall(r\"(?P<judge>[A-Za-z'\\s]+)[_:]{1}(?P<f1>\\d+)\\s*-\\s*(?P<f2>\\d+)\")\n",
    "\n",
    "df.loc[df['judges'].str.len()>0, 'judge1'] = df.loc[df['judges'].str.len()>0, 'judges'].str[0]\n",
    "df.loc[df['judges'].str.len()>0, 'judge2'] = df.loc[df['judges'].str.len()>0, 'judges'].str[1]\n",
    "df.loc[df['judges'].str.len()>0, 'judge3'] = df.loc[df['judges'].str.len()>0, 'judges'].str[2]"
   ]
  },
  {
   "cell_type": "code",
   "execution_count": 197,
   "id": "30719c5f-5c96-4ef7-9e56-c2e37eb6c315",
   "metadata": {},
   "outputs": [],
   "source": [
    "# rename cols and make fighter-opponent table\n",
    "df_add = df.copy()\n",
    "df = df.rename(columns={'Fighter_left':'Fighter', 'Fighter_right':'Opponent', 'Win_lose_left':'Result'}).drop('Win_lose_right', axis=1)\n",
    "\n",
    "def suf_change(col_names, suf_out, suf_dam):\n",
    "    cols = []\n",
    "    \n",
    "    for it in col_names:\n",
    "        if re.search(r'{suf}$'.format(suf=suf_dam), it):\n",
    "            cols.append(re.sub(r'{suf}$'.format(suf=suf_dam), r'_d', it))\n",
    "        elif re.search(r'{suf}((_)|$)'.format(suf=suf_out), it):\n",
    "            cols.append(re.sub(r'{suf}((_)|$)'.format(suf=suf_out), r'\\1', it))\n",
    "        elif re.search(r'{suf}(_)'.format(suf=suf_dam), it):\n",
    "            cols.append(re.sub(r'{suf}(_)'.format(suf=suf_dam), r'_d\\1', it))\n",
    "        else:\n",
    "            cols.append(it)\n",
    "    return cols\n",
    "\n",
    "df.columns = suf_change(df.columns, suf_out='_l', suf_dam = '_r')\n",
    "\n",
    "df_add = df_add.rename(columns={'Fighter_right':'Fighter', 'Fighter_left':'Opponent', 'Win_lose_right':'Result'}).drop('Win_lose_left', axis=1)\n",
    "df_add.columns = suf_change(df_add.columns, suf_out='_r', suf_dam = '_l')\n",
    "\n",
    "df_all = pd.concat([df,df_add], ignore_index=True)\n",
    "\n",
    "del df, df_add"
   ]
  },
  {
   "cell_type": "code",
   "execution_count": 198,
   "id": "ab52497f-4f2b-4cee-a74a-fb2e6bde2bf8",
   "metadata": {
    "tags": []
   },
   "outputs": [],
   "source": [
    "#getting fighter params, adding to all suffix _stat\n",
    "#already float cols\n",
    "df_all.rename(columns={'KD':'kd_stat', 'Rev.':'rev_stat', 'Sub. att':'sub_att_stat', \n",
    "                       'KD_d':'kd_dam_stat', 'Rev._d':'rev_dam_stat', 'Sub. att_d':'sub_att_dam_stat'}, inplace=True)\n",
    "\n",
    "df_all['sig_str_stat'] = df_all['Sig. str'].str.extract(r'(\\d)\\sof', expand=False)\n",
    "df_all['sig_str_stat'] = df_all['sig_str_stat'].astype(float)\n",
    "\n",
    "df_all['sig_str_dam_stat'] = df_all['Sig. str_d'].str.extract(r'(\\d)\\sof', expand=False)\n",
    "df_all['sig_str_dam_stat'] = df_all['sig_str_dam_stat'].astype(float)\n",
    "\n",
    "df_all['sig_str_h_stat'] = df_all['Head'].str.extract(r'(\\d)\\sof', expand=False)\n",
    "df_all['sig_str_h_stat'] = df_all['sig_str_h_stat'].astype(float)\n",
    "\n",
    "df_all['sig_str_h_dam_stat'] = df_all['Head_d'].str.extract(r'(\\d)\\sof', expand=False)\n",
    "df_all['sig_str_h_dam_stat'] = df_all['sig_str_h_dam_stat'].astype(float)\n",
    "\n",
    "df_all['sig_str_l_stat'] = df_all['Leg'].str.extract(r'(\\d)\\sof', expand=False)\n",
    "df_all['sig_str_l_stat'] = df_all['sig_str_l_stat'].astype(float)\n",
    "\n",
    "df_all['sig_str_l_dam_stat'] = df_all['Leg_d'].str.extract(r'(\\d)\\sof', expand=False)\n",
    "df_all['sig_str_l_dam_stat'] = df_all['sig_str_l_dam_stat'].astype(float)\n",
    "\n",
    "df_all['sig_str_b_stat'] = df_all['Body'].str.extract(r'(\\d)\\sof', expand=False)\n",
    "df_all['sig_str_b_stat'] = df_all['sig_str_b_stat'].astype(float)\n",
    "\n",
    "df_all['sig_str_b_dam_stat'] = df_all['Body_d'].str.extract(r'(\\d)\\sof', expand=False)\n",
    "df_all['sig_str_b_dam_stat'] = df_all['sig_str_b_dam_stat'].astype(float)\n",
    "\n",
    "df_all['sig_str_d_stat'] = df_all['Distance'].str.extract(r'(\\d)\\sof', expand=False)\n",
    "df_all['sig_str_d_stat'] = df_all['sig_str_d_stat'].astype(float)\n",
    "\n",
    "df_all['sig_str_d_dam_stat'] = df_all['Distance_d'].str.extract(r'(\\d)\\sof', expand=False)\n",
    "df_all['sig_str_d_dam_stat'] = df_all['sig_str_d_dam_stat'].astype(float)\n",
    "\n",
    "df_all['sig_str_cl_stat'] = df_all['Clinch'].str.extract(r'(\\d)\\sof', expand=False)\n",
    "df_all['sig_str_cl_stat'] = df_all['sig_str_cl_stat'].astype(float)\n",
    "\n",
    "df_all['sig_str_cl_dam_stat'] = df_all['Clinch_d'].str.extract(r'(\\d)\\sof', expand=False)\n",
    "df_all['sig_str_cl_dam_stat'] = df_all['sig_str_cl_dam_stat'].astype(float)\n",
    "\n",
    "df_all['sig_str_gr_stat'] = df_all['Ground'].str.extract(r'(\\d)\\sof', expand=False)\n",
    "df_all['sig_str_gr_stat'] = df_all['sig_str_gr_stat'].astype(float)\n",
    "\n",
    "df_all['sig_str_gr_dam_stat'] = df_all['Ground_d'].str.extract(r'(\\d)\\sof', expand=False)\n",
    "df_all['sig_str_gr_dam_stat'] = df_all['sig_str_gr_dam_stat'].astype(float)\n",
    "\n",
    "df_all['td_stat'] = df_all['Td'].str.extract(r'(\\d)\\sof', expand=False)\n",
    "df_all['td_stat'] = df_all['td_stat'].astype(float)\n",
    "\n",
    "df_all['td_dam_stat'] = df_all['Td_d'].str.extract(r'(\\d)\\sof', expand=False)\n",
    "df_all['td_dam_stat'] = df_all['td_dam_stat'].astype(float)\n"
   ]
  },
  {
   "cell_type": "code",
   "execution_count": 199,
   "id": "a9ded0d4-91b3-4b48-a066-4c01362a97c4",
   "metadata": {},
   "outputs": [],
   "source": [
    "# ctrl_stat, time_stat in minutes\n",
    "df_all['ctrl_stat'] = df_all['Ctrl'].str.extract(r'(\\d:\\d{2})', expand=False)\n",
    "df_all.loc[df_all['ctrl_stat'].notnull(),'ctrl_stat'] = df_all.loc[df_all['ctrl_stat'].notnull(),'ctrl_stat'].str.split(':')\\\n",
    "                                                        .map(lambda x: int(x[0]) + int(x[1])/60)\n",
    "df_all['ctrl_stat'].fillna(0, inplace=True)\n",
    "\n",
    "\n",
    "df_all['ctrl_dam_stat'] = df_all['Ctrl_d'].str.extract(r'(\\d:\\d{2})', expand=False)\n",
    "df_all.loc[df_all['ctrl_dam_stat'].notnull(),'ctrl_dam_stat'] = df_all.loc[df_all['ctrl_dam_stat'].notnull(),'ctrl_dam_stat'].str.split(':')\\\n",
    "                                                        .map(lambda x: int(x[0]) + int(x[1])/60)\n",
    "df_all['ctrl_dam_stat'].fillna(0, inplace=True)\n",
    "\n",
    "\n",
    "df_all['time'] = (df_all['Round:']-1)*5 + df_all['Time:'].str.split(':').map(lambda x: int(x[0])+int(x[1])/60)\n",
    "\n",
    "# normalise stat cols stat to minutes \n",
    "stat_cols = [it for it in df_all.columns if re.search('_stat', it)]\n",
    "for col in stat_cols:\n",
    "    df_all[col] = df_all[col]/df_all['time']\n",
    "\n",
    "df_all['win_stat'] = (df_all['Result']=='W').astype(np.int8)\n",
    "df_all['lose_stat'] = (df_all['Result']=='L').astype(np.int8)"
   ]
  },
  {
   "cell_type": "code",
   "execution_count": 200,
   "id": "a2991800-32a2-443e-ad3b-2abaa5d12866",
   "metadata": {},
   "outputs": [],
   "source": [
    "# type of win stat\n",
    "met_d = {'Decision - Unanimous':'decision', \"TKO - Doctor's Stoppage\":'KO/TKO', 'KO/TKO':'KO/TKO', 'Submission':'wrestling', 'Decision - Split':'decision',\n",
    "        'Decision - Majority':'decision', 'Could Not Continue':'KO/TKO', 'Overturned':'other', 'Other':'other', 'DQ':'other'} \n",
    "\n",
    "df_all['method_type'] = df_all['Method:'].map(met_d)\n",
    "\n",
    "df_all['wrest_w_stat'] = ((df_all['method_type']=='wrestling') & (df_all['win_stat'])).astype(np.int8)\n",
    "df_all['wrest_l_stat'] = ((df_all['method_type']=='wrestling') & (df_all['lose_stat'])).astype(np.int8)\n",
    "\n",
    "df_all['KO_w_stat'] = ((df_all['method_type']=='KO/TKO')&(df_all['win_stat'])).astype(np.int8)\n",
    "df_all['KO_l_stat'] = ((df_all['method_type']=='KO/TKO') &(df_all['lose_stat'])).astype(np.int8)\n",
    "\n",
    "df_all['dec_w_stat' ] = ((df_all['method_type']=='decision') &(df_all['win_stat'])).astype(np.int8)\n",
    "df_all['dec_l_stat' ] = ((df_all['method_type']=='decision') &(df_all['lose_stat'])).astype(np.int8)"
   ]
  },
  {
   "cell_type": "code",
   "execution_count": 201,
   "id": "e971fffa-8699-4df9-b708-eb188a693fab",
   "metadata": {},
   "outputs": [],
   "source": [
    "# drop rows where sign strikes is null\n",
    "df_all = df_all[df_all['Sig. str'].notnull()]\n",
    "# drop fighters duples \n",
    "df_all = df_all[df_all['Fighter']!='Phillip Hawes']\n"
   ]
  },
  {
   "cell_type": "code",
   "execution_count": 202,
   "id": "2f0e7ee1-ba54-453d-a299-e9ecb61062bd",
   "metadata": {},
   "outputs": [],
   "source": [
    "# modify some cols\n",
    "# for col in [it for it in df_all.columns if re.search('str.*_stat$', it)]:\n",
    "#     df_all[col] = np.clip(df_all[col], 0, df_all[col].quantile(0.95))\n",
    "#     df_all[col] = np.power(df_all[col], 0.2)\n"
   ]
  },
  {
   "cell_type": "code",
   "execution_count": 203,
   "id": "1cfb9534-5475-45e2-910b-df0e8396329b",
   "metadata": {
    "tags": []
   },
   "outputs": [],
   "source": [
    "def get_rolling_stats(df_fighter, op_d, min_fights_num):\n",
    "#     import pdb; pdb.set_trace()\n",
    "    df_stat = df_fighter.expanding(min_periods=min_fights_num).agg(op_d)\n",
    "    df_stat['nlosses_stat_rol'] = df_fighter['lose_stat'].rolling(window=min_fights_num).sum()\n",
    "    \n",
    "    return df_stat.shift(1)\n",
    "#     return df_stat\n",
    "\n",
    "\n",
    "min_fights_num=3\n",
    "df_all.sort_values(by=['Fighter', 'Date'], inplace=True)\n",
    "stat_cols = [it for it in df_all.columns if re.search('_stat', it)]\n",
    "# op_d = {col:'mean' for col in stat_cols}\n",
    "# op_d = {col:'median' for col in stat_cols}\n",
    "op_d = {col:'median' for col in stat_cols if re.search('str',col)}\n",
    "op_d.update({col:'mean' for col in stat_cols if not re.search('str',col)})\n",
    "\n",
    "df_stat = df_all.groupby('Fighter').apply(lambda df: get_rolling_stats(df,op_d, min_fights_num))"
   ]
  },
  {
   "cell_type": "code",
   "execution_count": 204,
   "id": "53e2d1d8-2f40-4933-b3b6-c4880dcb7089",
   "metadata": {},
   "outputs": [],
   "source": [
    "df_full = df_all.merge(df_stat.reset_index(level=0), left_index=True, right_index=True, suffixes=['','_rol'], how='outer')"
   ]
  },
  {
   "cell_type": "code",
   "execution_count": 205,
   "id": "317a598d-5ef2-40e7-836b-76775782e884",
   "metadata": {},
   "outputs": [],
   "source": [
    "joblib.dump(df_all, 'df_all.pkl')\n",
    "del df_all, df_stat"
   ]
  },
  {
   "cell_type": "code",
   "execution_count": 206,
   "id": "f4035433-de0f-4db9-91b7-10b719a45e24",
   "metadata": {},
   "outputs": [],
   "source": [
    "df_full.to_csv('ufc_excel.csv', index=False, decimal=',')\n",
    "df_full.to_csv('ufc_datalens.csv', index=False)"
   ]
  },
  {
   "cell_type": "markdown",
   "id": "5332ec82-3a50-4e15-98d9-8eb414863b6f",
   "metadata": {},
   "source": [
    "# Make sub vectors"
   ]
  },
  {
   "cell_type": "code",
   "execution_count": 207,
   "id": "68c2c195-3d14-47df-89e0-5dc131259972",
   "metadata": {},
   "outputs": [],
   "source": [
    "df_full = df_full[df_full['kd_stat_rol'].notnull()]\n",
    "# draw maybe divide on four win/lose of one, win/lose of other\n",
    "df_full = df_full[df_full.Result.isin(['W', 'L'])]\n",
    "feat_cols = [it for it in df_full.columns if re.search('_stat_rol', it)]"
   ]
  },
  {
   "cell_type": "code",
   "execution_count": 208,
   "id": "fe0494fc-8d51-4a03-8ef0-a5f739d20a05",
   "metadata": {},
   "outputs": [],
   "source": [
    "df1 = df_full.set_index(['Fighter', 'Opponent', 'Date'])[feat_cols]\n",
    "df2 = df_full.set_index([ 'Opponent','Fighter', 'Date'])[feat_cols]\n",
    "df2.index.set_names(df1.index.names, inplace=True)\n",
    "\n",
    "res = df1-df2\n",
    "res = res[res.kd_stat_rol.notnull()]"
   ]
  },
  {
   "cell_type": "code",
   "execution_count": 209,
   "id": "a257bee6-25ee-4e07-8cd0-207c738aba10",
   "metadata": {
    "tags": []
   },
   "outputs": [],
   "source": [
    "df_feat = df_full.merge(res.reset_index(), on = ['Fighter','Opponent','Date'], suffixes=['','_sub'])\n",
    "df_feat['Result'] = np.where(df_feat['Result']=='W',1,0)"
   ]
  },
  {
   "cell_type": "code",
   "execution_count": 210,
   "id": "53e8d48f-2f4d-4d2d-b01c-f1a852216493",
   "metadata": {},
   "outputs": [
    {
     "data": {
      "text/plain": [
       "['df_feat_med.pkl']"
      ]
     },
     "execution_count": 210,
     "metadata": {},
     "output_type": "execute_result"
    }
   ],
   "source": [
    "# import joblib;joblib.dump(df_feat, 'df_feat_trick.pkl')\n",
    "import joblib;joblib.dump(df_feat, 'df_feat_med.pkl')"
   ]
  },
  {
   "cell_type": "markdown",
   "id": "56aaff12-0612-447f-ac4a-63756b1f38d8",
   "metadata": {},
   "source": [
    "# Try to predict"
   ]
  },
  {
   "cell_type": "code",
   "execution_count": 211,
   "id": "810f969f-221c-4fd2-b95a-ae0803f4eb63",
   "metadata": {},
   "outputs": [],
   "source": [
    "from catboost import CatBoostClassifier\n",
    "from sklearn.metrics import classification_report, accuracy_score"
   ]
  },
  {
   "cell_type": "code",
   "execution_count": 212,
   "id": "935499d5-1349-4e98-9831-29e926e4a3fa",
   "metadata": {},
   "outputs": [],
   "source": [
    "clf = CatBoostClassifier(task_type=\"GPU\", verbose = False, random_seed=0)"
   ]
  },
  {
   "cell_type": "code",
   "execution_count": 213,
   "id": "d4a72373-65ab-45a0-b482-4ebb8aea5063",
   "metadata": {},
   "outputs": [],
   "source": [
    "sign_cols = [it for it in df_feat.columns if re.search('_stat_rol_sub', it) or it in ['Fighter', 'Opponent', 'Date', 'Result'] ]\n",
    "X = df_feat[sign_cols]\n",
    "X_tr = X[X['Date']<pd.Timestamp('2021-09-01')].drop(['Fighter', 'Opponent', 'Date', 'Result'], axis=1)\n",
    "X_ts = X[X['Date']>=pd.Timestamp('2021-09-01')].drop(['Fighter', 'Opponent', 'Date', 'Result'], axis=1)\n",
    "y_tr = X.loc[X['Date']<pd.Timestamp('2021-09-01'), 'Result']\n",
    "y_ts = X.loc[X['Date']>=pd.Timestamp('2021-09-01'), 'Result']"
   ]
  },
  {
   "cell_type": "code",
   "execution_count": 214,
   "id": "8939e047-7393-4477-a16f-0ca52fc202b2",
   "metadata": {
    "tags": []
   },
   "outputs": [
    {
     "data": {
      "text/plain": [
       "(5024, 37)"
      ]
     },
     "execution_count": 214,
     "metadata": {},
     "output_type": "execute_result"
    }
   ],
   "source": [
    "X.shape"
   ]
  },
  {
   "cell_type": "code",
   "execution_count": 215,
   "id": "e97bb856-2ac9-4b5d-817a-de6b102b8213",
   "metadata": {
    "tags": []
   },
   "outputs": [
    {
     "data": {
      "text/plain": [
       "<catboost.core.CatBoostClassifier at 0x1fed34ef2c8>"
      ]
     },
     "execution_count": 215,
     "metadata": {},
     "output_type": "execute_result"
    }
   ],
   "source": [
    "clf.fit(X_tr, y_tr)"
   ]
  },
  {
   "cell_type": "code",
   "execution_count": 216,
   "id": "ec2b4a3e-7665-42f3-bd1b-b04cdb8ec160",
   "metadata": {
    "tags": []
   },
   "outputs": [
    {
     "data": {
      "text/plain": [
       "array(['td_dam_stat_rol_sub', 'ctrl_dam_stat_rol_sub', 'td_stat_rol_sub',\n",
       "       'sig_str_l_dam_stat_rol_sub', 'sig_str_l_stat_rol_sub',\n",
       "       'dec_w_stat_rol_sub', 'sig_str_cl_dam_stat_rol_sub',\n",
       "       'dec_l_stat_rol_sub', 'win_stat_rol_sub', 'kd_dam_stat_rol_sub',\n",
       "       'sig_str_stat_rol_sub', 'sig_str_gr_dam_stat_rol_sub',\n",
       "       'sub_att_dam_stat_rol_sub', 'sig_str_h_dam_stat_rol_sub',\n",
       "       'sig_str_cl_stat_rol_sub', 'sig_str_dam_stat_rol_sub',\n",
       "       'kd_stat_rol_sub', 'KO_l_stat_rol_sub', 'sig_str_gr_stat_rol_sub',\n",
       "       'KO_w_stat_rol_sub', 'sig_str_h_stat_rol_sub',\n",
       "       'rev_dam_stat_rol_sub', 'sig_str_b_dam_stat_rol_sub',\n",
       "       'wrest_l_stat_rol_sub', 'ctrl_stat_rol_sub', 'lose_stat_rol_sub',\n",
       "       'rev_stat_rol_sub', 'wrest_w_stat_rol_sub',\n",
       "       'sig_str_d_dam_stat_rol_sub', 'sub_att_stat_rol_sub',\n",
       "       'sig_str_b_stat_rol_sub', 'sig_str_d_stat_rol_sub',\n",
       "       'nlosses_stat_rol_sub'], dtype='<U27')"
      ]
     },
     "execution_count": 216,
     "metadata": {},
     "output_type": "execute_result"
    }
   ],
   "source": [
    "idx = np.argsort(clf.feature_importances_)[::-1]\n",
    "np.array(clf.feature_names_)[idx]"
   ]
  },
  {
   "cell_type": "code",
   "execution_count": 217,
   "id": "d86cd2ae-fbfc-46a9-9bd3-cebdb1777608",
   "metadata": {},
   "outputs": [],
   "source": [
    "y_p = clf.predict(X_ts)\n",
    "y_proba = clf.predict_proba(X_ts)\n",
    "# y_p = (y_proba[:,1]>0.9).astype(np.uint8)"
   ]
  },
  {
   "cell_type": "code",
   "execution_count": 218,
   "id": "8634a016-18c1-4fc0-bfb0-519cd91af6c4",
   "metadata": {},
   "outputs": [
    {
     "name": "stdout",
     "output_type": "stream",
     "text": [
      "              precision    recall  f1-score   support\n",
      "\n",
      "           0       0.65      0.65      0.65        48\n",
      "           1       0.65      0.65      0.65        48\n",
      "\n",
      "    accuracy                           0.65        96\n",
      "   macro avg       0.65      0.65      0.65        96\n",
      "weighted avg       0.65      0.65      0.65        96\n",
      "\n"
     ]
    }
   ],
   "source": [
    "print(classification_report(y_ts, y_p))"
   ]
  },
  {
   "cell_type": "code",
   "execution_count": 219,
   "id": "ee4eb2d6-26fb-48ac-a37e-694c28620f0b",
   "metadata": {},
   "outputs": [
    {
     "name": "stdout",
     "output_type": "stream",
     "text": [
      "              precision    recall  f1-score   support\n",
      "\n",
      "           0       0.89      0.90      0.90      2464\n",
      "           1       0.90      0.89      0.89      2464\n",
      "\n",
      "    accuracy                           0.89      4928\n",
      "   macro avg       0.89      0.89      0.89      4928\n",
      "weighted avg       0.89      0.89      0.89      4928\n",
      "\n"
     ]
    }
   ],
   "source": [
    "print(classification_report(y_tr, clf.predict(X_tr)))"
   ]
  },
  {
   "cell_type": "code",
   "execution_count": 67,
   "id": "82aa1187-febf-44df-ad14-4616a7a778b9",
   "metadata": {},
   "outputs": [],
   "source": [
    "def draw_learning_curve(estim,x,y,sizes_l, cv=3):\n",
    "    train_sizes,train_scores, test_scores = learning_curve(estim, x, y, train_sizes=sizes_l,cv=cv,n_jobs=-1)\n",
    "    train_mean = np.mean(train_scores,axis=1)\n",
    "    train_std = np.std(train_scores, axis=1)\n",
    "    test_mean = np.mean(test_scores, axis =1)\n",
    "    test_std = np.std(test_scores, axis=1)\n",
    "    plt.plot(train_sizes,train_mean, color='blue', marker='o', markersize=5, label = 'правильность при обучении')\n",
    "    plt.fill_between(train_sizes, train_mean+train_std , train_mean - train_std,alpha = 0.2,color='blue')\n",
    "    plt.plot(train_sizes,test_mean, color='green',marker='s', markersize=5, label='правильность при проверке')\n",
    "    plt.fill_between(train_sizes, test_mean+test_std, test_mean - test_std, alpha=0.2, color = 'green')\n",
    "    plt.grid()\n",
    "    plt.xlabel('количество обучающих образцов')\n",
    "    plt.ylabel('правильность')\n",
    "    plt.legend()\n",
    "    plt.ylim([0.5, 1])\n",
    "    plt.show()"
   ]
  },
  {
   "cell_type": "code",
   "execution_count": null,
   "id": "4aa4c774-3564-4233-bed5-d04eb574dd5f",
   "metadata": {},
   "outputs": [],
   "source": [
    "# draw_learning_curve(clf, X_tr, y_tr, sizes_l=[0.1, 0.5,0.6,0.9, 1])"
   ]
  },
  {
   "cell_type": "code",
   "execution_count": 220,
   "id": "56c50b5d-967c-482c-bfd2-05224a04ceca",
   "metadata": {
    "collapsed": true,
    "jupyter": {
     "outputs_hidden": true
    },
    "tags": []
   },
   "outputs": [
    {
     "data": {
      "text/html": [
       "<div>\n",
       "<style scoped>\n",
       "    .dataframe tbody tr th:only-of-type {\n",
       "        vertical-align: middle;\n",
       "    }\n",
       "\n",
       "    .dataframe tbody tr th {\n",
       "        vertical-align: top;\n",
       "    }\n",
       "\n",
       "    .dataframe thead th {\n",
       "        text-align: right;\n",
       "    }\n",
       "</style>\n",
       "<table border=\"1\" class=\"dataframe\">\n",
       "  <thead>\n",
       "    <tr style=\"text-align: right;\">\n",
       "      <th></th>\n",
       "      <th>Fighter</th>\n",
       "      <th>Opponent</th>\n",
       "      <th>Date</th>\n",
       "      <th>Result</th>\n",
       "      <th>y_p</th>\n",
       "      <th>y_proba</th>\n",
       "    </tr>\n",
       "  </thead>\n",
       "  <tbody>\n",
       "    <tr>\n",
       "      <th>158</th>\n",
       "      <td>Alexander Volkov</td>\n",
       "      <td>Marcin Tybura</td>\n",
       "      <td>2021-10-30</td>\n",
       "      <td>1</td>\n",
       "      <td>0</td>\n",
       "      <td>0.495698</td>\n",
       "    </tr>\n",
       "    <tr>\n",
       "      <th>221</th>\n",
       "      <td>Amanda Ribas</td>\n",
       "      <td>Virna Jandiroba</td>\n",
       "      <td>2021-10-30</td>\n",
       "      <td>1</td>\n",
       "      <td>0</td>\n",
       "      <td>0.471828</td>\n",
       "    </tr>\n",
       "    <tr>\n",
       "      <th>995</th>\n",
       "      <td>Cory Sandhagen</td>\n",
       "      <td>Petr Yan</td>\n",
       "      <td>2021-10-30</td>\n",
       "      <td>0</td>\n",
       "      <td>0</td>\n",
       "      <td>0.349992</td>\n",
       "    </tr>\n",
       "    <tr>\n",
       "      <th>1092</th>\n",
       "      <td>Dan Hooker</td>\n",
       "      <td>Islam Makhachev</td>\n",
       "      <td>2021-10-30</td>\n",
       "      <td>0</td>\n",
       "      <td>0</td>\n",
       "      <td>0.366294</td>\n",
       "    </tr>\n",
       "    <tr>\n",
       "      <th>1922</th>\n",
       "      <td>Glover Teixeira</td>\n",
       "      <td>Jan Blachowicz</td>\n",
       "      <td>2021-10-30</td>\n",
       "      <td>1</td>\n",
       "      <td>1</td>\n",
       "      <td>0.502545</td>\n",
       "    </tr>\n",
       "    <tr>\n",
       "      <th>2053</th>\n",
       "      <td>Islam Makhachev</td>\n",
       "      <td>Dan Hooker</td>\n",
       "      <td>2021-10-30</td>\n",
       "      <td>1</td>\n",
       "      <td>1</td>\n",
       "      <td>0.718802</td>\n",
       "    </tr>\n",
       "    <tr>\n",
       "      <th>2180</th>\n",
       "      <td>Jan Blachowicz</td>\n",
       "      <td>Glover Teixeira</td>\n",
       "      <td>2021-10-30</td>\n",
       "      <td>0</td>\n",
       "      <td>0</td>\n",
       "      <td>0.479865</td>\n",
       "    </tr>\n",
       "    <tr>\n",
       "      <th>2867</th>\n",
       "      <td>Khamzat Chimaev</td>\n",
       "      <td>Li Jingliang</td>\n",
       "      <td>2021-10-30</td>\n",
       "      <td>1</td>\n",
       "      <td>1</td>\n",
       "      <td>0.858860</td>\n",
       "    </tr>\n",
       "    <tr>\n",
       "      <th>2945</th>\n",
       "      <td>Lerone Murphy</td>\n",
       "      <td>Makwan Amirkhani</td>\n",
       "      <td>2021-10-30</td>\n",
       "      <td>1</td>\n",
       "      <td>1</td>\n",
       "      <td>0.501967</td>\n",
       "    </tr>\n",
       "    <tr>\n",
       "      <th>2952</th>\n",
       "      <td>Li Jingliang</td>\n",
       "      <td>Khamzat Chimaev</td>\n",
       "      <td>2021-10-30</td>\n",
       "      <td>0</td>\n",
       "      <td>0</td>\n",
       "      <td>0.139450</td>\n",
       "    </tr>\n",
       "    <tr>\n",
       "      <th>3043</th>\n",
       "      <td>Magomed Ankalaev</td>\n",
       "      <td>Volkan Oezdemir</td>\n",
       "      <td>2021-10-30</td>\n",
       "      <td>1</td>\n",
       "      <td>1</td>\n",
       "      <td>0.708134</td>\n",
       "    </tr>\n",
       "    <tr>\n",
       "      <th>3051</th>\n",
       "      <td>Makwan Amirkhani</td>\n",
       "      <td>Lerone Murphy</td>\n",
       "      <td>2021-10-30</td>\n",
       "      <td>0</td>\n",
       "      <td>0</td>\n",
       "      <td>0.378092</td>\n",
       "    </tr>\n",
       "    <tr>\n",
       "      <th>3079</th>\n",
       "      <td>Marcin Tybura</td>\n",
       "      <td>Alexander Volkov</td>\n",
       "      <td>2021-10-30</td>\n",
       "      <td>0</td>\n",
       "      <td>0</td>\n",
       "      <td>0.447272</td>\n",
       "    </tr>\n",
       "    <tr>\n",
       "      <th>3841</th>\n",
       "      <td>Petr Yan</td>\n",
       "      <td>Cory Sandhagen</td>\n",
       "      <td>2021-10-30</td>\n",
       "      <td>1</td>\n",
       "      <td>1</td>\n",
       "      <td>0.738141</td>\n",
       "    </tr>\n",
       "    <tr>\n",
       "      <th>4054</th>\n",
       "      <td>Ricardo Ramos</td>\n",
       "      <td>Zubaira Tukhugov</td>\n",
       "      <td>2021-10-30</td>\n",
       "      <td>0</td>\n",
       "      <td>0</td>\n",
       "      <td>0.452280</td>\n",
       "    </tr>\n",
       "    <tr>\n",
       "      <th>4855</th>\n",
       "      <td>Virna Jandiroba</td>\n",
       "      <td>Amanda Ribas</td>\n",
       "      <td>2021-10-30</td>\n",
       "      <td>0</td>\n",
       "      <td>0</td>\n",
       "      <td>0.463365</td>\n",
       "    </tr>\n",
       "    <tr>\n",
       "      <th>4891</th>\n",
       "      <td>Volkan Oezdemir</td>\n",
       "      <td>Magomed Ankalaev</td>\n",
       "      <td>2021-10-30</td>\n",
       "      <td>0</td>\n",
       "      <td>0</td>\n",
       "      <td>0.301910</td>\n",
       "    </tr>\n",
       "    <tr>\n",
       "      <th>5023</th>\n",
       "      <td>Zubaira Tukhugov</td>\n",
       "      <td>Ricardo Ramos</td>\n",
       "      <td>2021-10-30</td>\n",
       "      <td>1</td>\n",
       "      <td>1</td>\n",
       "      <td>0.538217</td>\n",
       "    </tr>\n",
       "  </tbody>\n",
       "</table>\n",
       "</div>"
      ],
      "text/plain": [
       "               Fighter          Opponent       Date  Result  y_p   y_proba\n",
       "158   Alexander Volkov     Marcin Tybura 2021-10-30       1    0  0.495698\n",
       "221       Amanda Ribas   Virna Jandiroba 2021-10-30       1    0  0.471828\n",
       "995     Cory Sandhagen          Petr Yan 2021-10-30       0    0  0.349992\n",
       "1092        Dan Hooker   Islam Makhachev 2021-10-30       0    0  0.366294\n",
       "1922   Glover Teixeira    Jan Blachowicz 2021-10-30       1    1  0.502545\n",
       "2053   Islam Makhachev        Dan Hooker 2021-10-30       1    1  0.718802\n",
       "2180    Jan Blachowicz   Glover Teixeira 2021-10-30       0    0  0.479865\n",
       "2867   Khamzat Chimaev      Li Jingliang 2021-10-30       1    1  0.858860\n",
       "2945     Lerone Murphy  Makwan Amirkhani 2021-10-30       1    1  0.501967\n",
       "2952      Li Jingliang   Khamzat Chimaev 2021-10-30       0    0  0.139450\n",
       "3043  Magomed Ankalaev   Volkan Oezdemir 2021-10-30       1    1  0.708134\n",
       "3051  Makwan Amirkhani     Lerone Murphy 2021-10-30       0    0  0.378092\n",
       "3079     Marcin Tybura  Alexander Volkov 2021-10-30       0    0  0.447272\n",
       "3841          Petr Yan    Cory Sandhagen 2021-10-30       1    1  0.738141\n",
       "4054     Ricardo Ramos  Zubaira Tukhugov 2021-10-30       0    0  0.452280\n",
       "4855   Virna Jandiroba      Amanda Ribas 2021-10-30       0    0  0.463365\n",
       "4891   Volkan Oezdemir  Magomed Ankalaev 2021-10-30       0    0  0.301910\n",
       "5023  Zubaira Tukhugov     Ricardo Ramos 2021-10-30       1    1  0.538217"
      ]
     },
     "execution_count": 220,
     "metadata": {},
     "output_type": "execute_result"
    }
   ],
   "source": [
    "X_ts['y_p'] = y_p\n",
    "X_ts['y_proba'] = y_proba[:,1]\n",
    "df_comp = X.merge(X_ts[['y_p', 'y_proba']], left_index=True, right_index=True)[['Fighter', 'Opponent', 'Date', 'Result','y_p', 'y_proba' ]]\n",
    "df_comp[df_comp['Date']==df_comp['Date'].max()]\n",
    "# df_comp"
   ]
  },
  {
   "cell_type": "markdown",
   "id": "8f7bcb6a-25f0-4549-9950-18e646b8fd31",
   "metadata": {},
   "source": [
    "# global TODO \n",
    "- statistic cover\n",
    "- predict way of win\n",
    "- proba (win of first-second + loss second-first)/2\n",
    "- corner color, is_champ add to features\n",
    "- striks - opponent"
   ]
  },
  {
   "cell_type": "markdown",
   "id": "002feebe-67cc-484b-98ea-b079e3b0c23c",
   "metadata": {},
   "source": [
    "# Description"
   ]
  },
  {
   "cell_type": "markdown",
   "id": "817cb42b-a799-4bf6-aef6-ddd8da7d164c",
   "metadata": {},
   "source": [
    "Takedown (TD)\n",
    "Knockdown (KD)"
   ]
  }
 ],
 "metadata": {
  "kernelspec": {
   "display_name": "Python 3",
   "language": "python",
   "name": "python3"
  },
  "language_info": {
   "codemirror_mode": {
    "name": "ipython",
    "version": 3
   },
   "file_extension": ".py",
   "mimetype": "text/x-python",
   "name": "python",
   "nbconvert_exporter": "python",
   "pygments_lexer": "ipython3",
   "version": "3.7.10"
  }
 },
 "nbformat": 4,
 "nbformat_minor": 5
}
