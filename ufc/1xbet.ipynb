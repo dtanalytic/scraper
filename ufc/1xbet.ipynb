{
 "cells": [
  {
   "cell_type": "code",
   "execution_count": 1,
   "id": "3f42b6eb-2257-4887-87e9-163049d15ed3",
   "metadata": {},
   "outputs": [],
   "source": [
    "from bs4 import BeautifulSoup\n",
    "import requests\n",
    "import random\n",
    "import time\n",
    "import numpy as np\n",
    "import pandas as pd\n",
    "import re"
   ]
  },
  {
   "cell_type": "code",
   "execution_count": 2,
   "id": "69c26b68-787c-4f43-b14b-cedc73a79f96",
   "metadata": {
    "tags": []
   },
   "outputs": [],
   "source": [
    "from selenium import webdriver\n",
    "browser = webdriver.Firefox()"
   ]
  },
  {
   "cell_type": "markdown",
   "id": "516cf673-9ba3-4717-852a-0517850956dd",
   "metadata": {},
   "source": [
    "# UFC"
   ]
  },
  {
   "cell_type": "code",
   "execution_count": 3,
   "id": "953a601a-f6d0-4e72-a296-6c60d5c0f95c",
   "metadata": {},
   "outputs": [],
   "source": [
    "browser.get('https://1xstavka.ru/line/ufc/2651172-ufc-fight-night-240324')\n",
    "browser.implicitly_wait(2)\n",
    "html = browser.page_source\n",
    "\n",
    "\n",
    "# browser.quit()"
   ]
  },
  {
   "cell_type": "code",
   "execution_count": 4,
   "id": "eebc6b82-234e-4437-9e4f-d2cba7b4b7ae",
   "metadata": {},
   "outputs": [],
   "source": [
    "bsObj = BeautifulSoup(html, 'lxml')\n",
    "event_inf_tags = bsObj.findAll('div',{'class':'c-events__item c-events__item_game c-events-item'})\n"
   ]
  },
  {
   "cell_type": "code",
   "execution_count": 5,
   "id": "eba73f41-bb7e-40e5-82fe-eeaefbc1ad07",
   "metadata": {
    "tags": []
   },
   "outputs": [
    {
     "data": {
      "text/plain": [
       "array([['Майлз Джонс', 'Коди Гибсон'],\n",
       "       ['Мохаммед Усман', 'Майкл Паркин'],\n",
       "       ['Игорь да Силва Северино', 'Андре Луис Лима Кардосо'],\n",
       "       ['Монтсеррат Рендон', 'Дарья Железнякова'],\n",
       "       ['Стивен Нгуен', 'Ярно Эрренс'],\n",
       "       ['Рикардо Лукас Рамос', 'Джулиан Ероса'],\n",
       "       ['Трей Огден', 'Курт Холобауг'],\n",
       "       ['Билли Куарантилло', 'Юсеф Залал'],\n",
       "       ['Карл Уильямс', 'Джастин Тафа'],\n",
       "       ['Эдмен Шахбазян', 'ЭйДжей Добсон'],\n",
       "       ['Луис Пахуэло', 'Фернандо Падилья'],\n",
       "       ['Пэйтон Толбот', 'Кэмерон Саайман'],\n",
       "       ['Аманда Рибас', 'Роуз Намаюнас']], dtype='<U23')"
      ]
     },
     "execution_count": 5,
     "metadata": {},
     "output_type": "execute_result"
    }
   ],
   "source": [
    "names = np.array([[re.sub(r'\\(.*\\)', '' , item.get_text()).strip() for item in event.find_all('span',{'class':'c-events__team'})] for event in event_inf_tags])\n",
    "names"
   ]
  },
  {
   "cell_type": "code",
   "execution_count": 6,
   "id": "04dbba37-577c-4a2a-b75e-f4d77b114e5a",
   "metadata": {},
   "outputs": [
    {
     "data": {
      "text/plain": [
       "array([['1.68', '2.169'],\n",
       "       ['2.126', '1.71'],\n",
       "       ['2.408', '1.56'],\n",
       "       ['2.725', '1.454'],\n",
       "       ['1.51', '2.536'],\n",
       "       ['1.59', '2.332'],\n",
       "       ['1.686', '2.148'],\n",
       "       ['1.71', '2.161'],\n",
       "       ['1.553', '2.461'],\n",
       "       ['1.553', '2.461'],\n",
       "       ['2.287', '1.635'],\n",
       "       ['1.67', '2.229'],\n",
       "       ['2.998', '1.4']], dtype='<U5')"
      ]
     },
     "execution_count": 6,
     "metadata": {},
     "output_type": "execute_result"
    }
   ],
   "source": [
    "coefs = [[item.get_text().strip() for item in event.find_all('span',{'class':'c-bets__bet c-bets__bet_coef c-bets__bet_sm'})] for event in event_inf_tags]\n",
    "coefs = np.array([[it[0], it[2]]  if len(it)>2 else [0,0] for it in coefs])\n",
    "coefs"
   ]
  },
  {
   "cell_type": "code",
   "execution_count": 7,
   "id": "d930ebc8-997c-473d-a791-612f4c482e1b",
   "metadata": {},
   "outputs": [
    {
     "data": {
      "text/plain": [
       "array([['Майлз Джонс', 'Коди Гибсон', '1.68', '2.169'],\n",
       "       ['Мохаммед Усман', 'Майкл Паркин', '2.126', '1.71'],\n",
       "       ['Игорь да Силва Северино', 'Андре Луис Лима Кардосо', '2.408',\n",
       "        '1.56'],\n",
       "       ['Монтсеррат Рендон', 'Дарья Железнякова', '2.725', '1.454'],\n",
       "       ['Стивен Нгуен', 'Ярно Эрренс', '1.51', '2.536'],\n",
       "       ['Рикардо Лукас Рамос', 'Джулиан Ероса', '1.59', '2.332'],\n",
       "       ['Трей Огден', 'Курт Холобауг', '1.686', '2.148'],\n",
       "       ['Билли Куарантилло', 'Юсеф Залал', '1.71', '2.161'],\n",
       "       ['Карл Уильямс', 'Джастин Тафа', '1.553', '2.461'],\n",
       "       ['Эдмен Шахбазян', 'ЭйДжей Добсон', '1.553', '2.461'],\n",
       "       ['Луис Пахуэло', 'Фернандо Падилья', '2.287', '1.635'],\n",
       "       ['Пэйтон Толбот', 'Кэмерон Саайман', '1.67', '2.229'],\n",
       "       ['Аманда Рибас', 'Роуз Намаюнас', '2.998', '1.4']], dtype='<U23')"
      ]
     },
     "execution_count": 7,
     "metadata": {},
     "output_type": "execute_result"
    }
   ],
   "source": [
    "ar = np.concatenate([names, coefs], axis=1)\n",
    "ar "
   ]
  },
  {
   "cell_type": "code",
   "execution_count": 8,
   "id": "47216b6d-b86a-4eae-b817-de9fa42fadd7",
   "metadata": {},
   "outputs": [
    {
     "data": {
      "text/html": [
       "<div>\n",
       "<style scoped>\n",
       "    .dataframe tbody tr th:only-of-type {\n",
       "        vertical-align: middle;\n",
       "    }\n",
       "\n",
       "    .dataframe tbody tr th {\n",
       "        vertical-align: top;\n",
       "    }\n",
       "\n",
       "    .dataframe thead th {\n",
       "        text-align: right;\n",
       "    }\n",
       "</style>\n",
       "<table border=\"1\" class=\"dataframe\">\n",
       "  <thead>\n",
       "    <tr style=\"text-align: right;\">\n",
       "      <th></th>\n",
       "      <th>fighter1</th>\n",
       "      <th>fighter2</th>\n",
       "      <th>coef1</th>\n",
       "      <th>coef2</th>\n",
       "    </tr>\n",
       "  </thead>\n",
       "  <tbody>\n",
       "    <tr>\n",
       "      <th>0</th>\n",
       "      <td>Майлз Джонс</td>\n",
       "      <td>Коди Гибсон</td>\n",
       "      <td>1.68</td>\n",
       "      <td>2.169</td>\n",
       "    </tr>\n",
       "    <tr>\n",
       "      <th>1</th>\n",
       "      <td>Мохаммед Усман</td>\n",
       "      <td>Майкл Паркин</td>\n",
       "      <td>2.126</td>\n",
       "      <td>1.71</td>\n",
       "    </tr>\n",
       "    <tr>\n",
       "      <th>2</th>\n",
       "      <td>Игорь да Силва Северино</td>\n",
       "      <td>Андре Луис Лима Кардосо</td>\n",
       "      <td>2.408</td>\n",
       "      <td>1.56</td>\n",
       "    </tr>\n",
       "    <tr>\n",
       "      <th>3</th>\n",
       "      <td>Монтсеррат Рендон</td>\n",
       "      <td>Дарья Железнякова</td>\n",
       "      <td>2.725</td>\n",
       "      <td>1.454</td>\n",
       "    </tr>\n",
       "    <tr>\n",
       "      <th>4</th>\n",
       "      <td>Стивен Нгуен</td>\n",
       "      <td>Ярно Эрренс</td>\n",
       "      <td>1.51</td>\n",
       "      <td>2.536</td>\n",
       "    </tr>\n",
       "    <tr>\n",
       "      <th>5</th>\n",
       "      <td>Рикардо Лукас Рамос</td>\n",
       "      <td>Джулиан Ероса</td>\n",
       "      <td>1.59</td>\n",
       "      <td>2.332</td>\n",
       "    </tr>\n",
       "    <tr>\n",
       "      <th>6</th>\n",
       "      <td>Трей Огден</td>\n",
       "      <td>Курт Холобауг</td>\n",
       "      <td>1.686</td>\n",
       "      <td>2.148</td>\n",
       "    </tr>\n",
       "    <tr>\n",
       "      <th>7</th>\n",
       "      <td>Билли Куарантилло</td>\n",
       "      <td>Юсеф Залал</td>\n",
       "      <td>1.71</td>\n",
       "      <td>2.161</td>\n",
       "    </tr>\n",
       "    <tr>\n",
       "      <th>8</th>\n",
       "      <td>Карл Уильямс</td>\n",
       "      <td>Джастин Тафа</td>\n",
       "      <td>1.553</td>\n",
       "      <td>2.461</td>\n",
       "    </tr>\n",
       "    <tr>\n",
       "      <th>9</th>\n",
       "      <td>Эдмен Шахбазян</td>\n",
       "      <td>ЭйДжей Добсон</td>\n",
       "      <td>1.553</td>\n",
       "      <td>2.461</td>\n",
       "    </tr>\n",
       "    <tr>\n",
       "      <th>10</th>\n",
       "      <td>Луис Пахуэло</td>\n",
       "      <td>Фернандо Падилья</td>\n",
       "      <td>2.287</td>\n",
       "      <td>1.635</td>\n",
       "    </tr>\n",
       "    <tr>\n",
       "      <th>11</th>\n",
       "      <td>Пэйтон Толбот</td>\n",
       "      <td>Кэмерон Саайман</td>\n",
       "      <td>1.67</td>\n",
       "      <td>2.229</td>\n",
       "    </tr>\n",
       "    <tr>\n",
       "      <th>12</th>\n",
       "      <td>Аманда Рибас</td>\n",
       "      <td>Роуз Намаюнас</td>\n",
       "      <td>2.998</td>\n",
       "      <td>1.4</td>\n",
       "    </tr>\n",
       "  </tbody>\n",
       "</table>\n",
       "</div>"
      ],
      "text/plain": [
       "                   fighter1                 fighter2  coef1  coef2\n",
       "0               Майлз Джонс              Коди Гибсон   1.68  2.169\n",
       "1            Мохаммед Усман             Майкл Паркин  2.126   1.71\n",
       "2   Игорь да Силва Северино  Андре Луис Лима Кардосо  2.408   1.56\n",
       "3         Монтсеррат Рендон        Дарья Железнякова  2.725  1.454\n",
       "4              Стивен Нгуен              Ярно Эрренс   1.51  2.536\n",
       "5       Рикардо Лукас Рамос            Джулиан Ероса   1.59  2.332\n",
       "6                Трей Огден            Курт Холобауг  1.686  2.148\n",
       "7         Билли Куарантилло               Юсеф Залал   1.71  2.161\n",
       "8              Карл Уильямс             Джастин Тафа  1.553  2.461\n",
       "9            Эдмен Шахбазян            ЭйДжей Добсон  1.553  2.461\n",
       "10             Луис Пахуэло         Фернандо Падилья  2.287  1.635\n",
       "11            Пэйтон Толбот          Кэмерон Саайман   1.67  2.229\n",
       "12             Аманда Рибас            Роуз Намаюнас  2.998    1.4"
      ]
     },
     "execution_count": 8,
     "metadata": {},
     "output_type": "execute_result"
    }
   ],
   "source": [
    "fighter_coef_df = pd.DataFrame(ar, columns=['fighter1', 'fighter2', 'coef1', 'coef2'])\n",
    "fighter_coef_df"
   ]
  },
  {
   "cell_type": "code",
   "execution_count": 9,
   "id": "93b49944-ced7-4569-a9b9-a009e4374bd8",
   "metadata": {
    "tags": []
   },
   "outputs": [],
   "source": [
    "df_prev = pd.read_excel('coefs.xlsx')\n",
    "# df_prev = pd.read_excel('coefs_ufc268.xlsx')\n",
    "\n"
   ]
  },
  {
   "cell_type": "code",
   "execution_count": 10,
   "id": "3979e61e-5c22-45e9-a0c4-1b5486b5e721",
   "metadata": {},
   "outputs": [
    {
     "data": {
      "text/html": [
       "<div>\n",
       "<style scoped>\n",
       "    .dataframe tbody tr th:only-of-type {\n",
       "        vertical-align: middle;\n",
       "    }\n",
       "\n",
       "    .dataframe tbody tr th {\n",
       "        vertical-align: top;\n",
       "    }\n",
       "\n",
       "    .dataframe thead th {\n",
       "        text-align: right;\n",
       "    }\n",
       "</style>\n",
       "<table border=\"1\" class=\"dataframe\">\n",
       "  <thead>\n",
       "    <tr style=\"text-align: right;\">\n",
       "      <th></th>\n",
       "      <th>fighter1</th>\n",
       "      <th>fighter2</th>\n",
       "      <th>coef1</th>\n",
       "      <th>coef2</th>\n",
       "    </tr>\n",
       "  </thead>\n",
       "  <tbody>\n",
       "    <tr>\n",
       "      <th>0</th>\n",
       "      <td>Карлос Вергара</td>\n",
       "      <td>Оде Осборн</td>\n",
       "      <td>2.600</td>\n",
       "      <td>1.520</td>\n",
       "    </tr>\n",
       "    <tr>\n",
       "      <th>1</th>\n",
       "      <td>Мелсик Багдасарян</td>\n",
       "      <td>Бруно Соуза</td>\n",
       "      <td>1.280</td>\n",
       "      <td>3.850</td>\n",
       "    </tr>\n",
       "    <tr>\n",
       "      <th>2</th>\n",
       "      <td>Дастин Джакоби</td>\n",
       "      <td>Джон Аллан Арте</td>\n",
       "      <td>1.250</td>\n",
       "      <td>4.150</td>\n",
       "    </tr>\n",
       "    <tr>\n",
       "      <th>3</th>\n",
       "      <td>Джан Вилланте</td>\n",
       "      <td>Крис Барнетт</td>\n",
       "      <td>1.780</td>\n",
       "      <td>2.080</td>\n",
       "    </tr>\n",
       "    <tr>\n",
       "      <th>4</th>\n",
       "      <td>Иан Гарри</td>\n",
       "      <td>Джордан Уильямс</td>\n",
       "      <td>1.250</td>\n",
       "      <td>4.100</td>\n",
       "    </tr>\n",
       "    <tr>\n",
       "      <th>...</th>\n",
       "      <td>...</td>\n",
       "      <td>...</td>\n",
       "      <td>...</td>\n",
       "      <td>...</td>\n",
       "    </tr>\n",
       "    <tr>\n",
       "      <th>762</th>\n",
       "      <td>Карл Уильямс</td>\n",
       "      <td>Джастин Тафа</td>\n",
       "      <td>1.553</td>\n",
       "      <td>2.461</td>\n",
       "    </tr>\n",
       "    <tr>\n",
       "      <th>763</th>\n",
       "      <td>Эдмен Шахбазян</td>\n",
       "      <td>ЭйДжей Добсон</td>\n",
       "      <td>1.553</td>\n",
       "      <td>2.461</td>\n",
       "    </tr>\n",
       "    <tr>\n",
       "      <th>764</th>\n",
       "      <td>Луис Пахуэло</td>\n",
       "      <td>Фернандо Падилья</td>\n",
       "      <td>2.287</td>\n",
       "      <td>1.635</td>\n",
       "    </tr>\n",
       "    <tr>\n",
       "      <th>765</th>\n",
       "      <td>Пэйтон Толбот</td>\n",
       "      <td>Кэмерон Саайман</td>\n",
       "      <td>1.670</td>\n",
       "      <td>2.229</td>\n",
       "    </tr>\n",
       "    <tr>\n",
       "      <th>766</th>\n",
       "      <td>Аманда Рибас</td>\n",
       "      <td>Роуз Намаюнас</td>\n",
       "      <td>2.998</td>\n",
       "      <td>1.400</td>\n",
       "    </tr>\n",
       "  </tbody>\n",
       "</table>\n",
       "<p>767 rows × 4 columns</p>\n",
       "</div>"
      ],
      "text/plain": [
       "              fighter1          fighter2  coef1  coef2\n",
       "0       Карлос Вергара        Оде Осборн  2.600  1.520\n",
       "1    Мелсик Багдасарян       Бруно Соуза  1.280  3.850\n",
       "2       Дастин Джакоби   Джон Аллан Арте  1.250  4.150\n",
       "3        Джан Вилланте      Крис Барнетт  1.780  2.080\n",
       "4            Иан Гарри   Джордан Уильямс  1.250  4.100\n",
       "..                 ...               ...    ...    ...\n",
       "762       Карл Уильямс      Джастин Тафа  1.553  2.461\n",
       "763     Эдмен Шахбазян     ЭйДжей Добсон  1.553  2.461\n",
       "764       Луис Пахуэло  Фернандо Падилья  2.287  1.635\n",
       "765      Пэйтон Толбот   Кэмерон Саайман  1.670  2.229\n",
       "766       Аманда Рибас     Роуз Намаюнас  2.998  1.400\n",
       "\n",
       "[767 rows x 4 columns]"
      ]
     },
     "execution_count": 10,
     "metadata": {},
     "output_type": "execute_result"
    }
   ],
   "source": [
    "df_all = pd.concat([df_prev, fighter_coef_df], ignore_index=True)\n",
    "df_all['coef1'] = df_all['coef1'].astype(float)\n",
    "\n",
    "df_all['coef2'] = df_all['coef2'].astype(float)\n",
    "\n",
    "\n",
    "df_all\n",
    "# нули и пустоты удалить потом"
   ]
  },
  {
   "cell_type": "code",
   "execution_count": 11,
   "id": "e55ddb99-3462-41e1-9963-86a28f764acd",
   "metadata": {},
   "outputs": [],
   "source": [
    "df_all.to_excel('coefs.xlsx', index=False)"
   ]
  },
  {
   "cell_type": "code",
   "execution_count": 12,
   "id": "ad21ea2e-f934-4ba9-a9d6-26587da9b330",
   "metadata": {},
   "outputs": [],
   "source": [
    "browser.quit()"
   ]
  }
 ],
 "metadata": {
  "kernelspec": {
   "display_name": "develop_env",
   "language": "python",
   "name": "develop_env"
  },
  "language_info": {
   "codemirror_mode": {
    "name": "ipython",
    "version": 3
   },
   "file_extension": ".py",
   "mimetype": "text/x-python",
   "name": "python",
   "nbconvert_exporter": "python",
   "pygments_lexer": "ipython3",
   "version": "3.10.12"
  }
 },
 "nbformat": 4,
 "nbformat_minor": 5
}
