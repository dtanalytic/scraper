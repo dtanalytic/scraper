{
 "cells": [
  {
   "cell_type": "code",
   "execution_count": 1,
   "id": "3f42b6eb-2257-4887-87e9-163049d15ed3",
   "metadata": {},
   "outputs": [],
   "source": [
    "from bs4 import BeautifulSoup\n",
    "import requests\n",
    "import random\n",
    "import time\n",
    "import numpy as np\n",
    "import pandas as pd\n",
    "import re"
   ]
  },
  {
   "cell_type": "code",
   "execution_count": 7,
   "id": "69c26b68-787c-4f43-b14b-cedc73a79f96",
   "metadata": {
    "tags": []
   },
   "outputs": [],
   "source": [
    "from selenium import webdriver\n",
    "browser = webdriver.Firefox()"
   ]
  },
  {
   "cell_type": "code",
   "execution_count": 3,
   "id": "953a601a-f6d0-4e72-a296-6c60d5c0f95c",
   "metadata": {},
   "outputs": [],
   "source": [
    "browser.get('https://1xstavka.ru/line/ufc/2503366-ufc-287')\n",
    "browser.implicitly_wait(2)\n",
    "html = browser.page_source\n",
    "\n",
    "\n",
    "# browser.quit()"
   ]
  },
  {
   "cell_type": "code",
   "execution_count": 4,
   "id": "eebc6b82-234e-4437-9e4f-d2cba7b4b7ae",
   "metadata": {},
   "outputs": [],
   "source": [
    "bsObj = BeautifulSoup(html, 'lxml')\n",
    "event_inf_tags = bsObj.findAll('div',{'class':'c-events__item c-events__item_game'})\n"
   ]
  },
  {
   "cell_type": "code",
   "execution_count": 5,
   "id": "eba73f41-bb7e-40e5-82fe-eeaefbc1ad07",
   "metadata": {
    "tags": []
   },
   "outputs": [
    {
     "data": {
      "text/plain": [
       "array([['Крис Барнетт', 'Чейс Шерман'],\n",
       "       ['Джеральд Миршерт', 'Джозеф Пайфер'],\n",
       "       ['Игнасио Багамондес', 'Николас Мотта'],\n",
       "       ['Келвин Гастелум', 'Крис Кертис'],\n",
       "       ['Стив Гарсия-младший', 'Шайлан Нурданбек'],\n",
       "       ['Сэм Хьюз', 'Жаклин Аморим'],\n",
       "       ['Мишель Уотерсон', 'Луана Пиньейро'],\n",
       "       ['Синтия Кальвильо', 'Люпита Годинез'],\n",
       "       ['Роб Фонт', 'Адриан Янез'],\n",
       "       ['Кевин Холланд', 'Сантьяго Понзиниббио'],\n",
       "       ['Гилберт Бернс', 'Хорхе Масвидал'],\n",
       "       ['Алекс Перейра', 'Исраэль Адесаня']], dtype='<U20')"
      ]
     },
     "execution_count": 5,
     "metadata": {},
     "output_type": "execute_result"
    }
   ],
   "source": [
    "names = np.array([[re.sub(r'\\(.*\\)', '' , item.get_text()).strip() for item in event.find_all('span',{'class':'c-events__team'})] for event in event_inf_tags])\n",
    "names"
   ]
  },
  {
   "cell_type": "code",
   "execution_count": 6,
   "id": "04dbba37-577c-4a2a-b75e-f4d77b114e5a",
   "metadata": {},
   "outputs": [
    {
     "data": {
      "text/plain": [
       "array([['2.748', '1.45'],\n",
       "       ['2.464', '1.54'],\n",
       "       ['1.372', '3.015'],\n",
       "       ['1.83', '1.94'],\n",
       "       ['2.69', '1.46'],\n",
       "       ['2.976', '1.39'],\n",
       "       ['2.43', '1.552'],\n",
       "       ['3.14', '1.37'],\n",
       "       ['2.348', '1.59'],\n",
       "       ['1.39', '2.96'],\n",
       "       ['1.18', '4.94'],\n",
       "       ['2.18', '1.7']], dtype='<U5')"
      ]
     },
     "execution_count": 6,
     "metadata": {},
     "output_type": "execute_result"
    }
   ],
   "source": [
    "coefs = [[item.get_text().strip() for item in event.find_all('span',{'class':'c-bets__bet c-bets__bet_coef c-bets__bet_sm'})] for event in event_inf_tags]\n",
    "coefs = np.array([[it[0], it[2]]  if len(it)>2 else [0,0] for it in coefs])\n",
    "coefs"
   ]
  },
  {
   "cell_type": "code",
   "execution_count": 7,
   "id": "d930ebc8-997c-473d-a791-612f4c482e1b",
   "metadata": {},
   "outputs": [
    {
     "data": {
      "text/plain": [
       "array([['Крис Барнетт', 'Чейс Шерман', '2.748', '1.45'],\n",
       "       ['Джеральд Миршерт', 'Джозеф Пайфер', '2.464', '1.54'],\n",
       "       ['Игнасио Багамондес', 'Николас Мотта', '1.372', '3.015'],\n",
       "       ['Келвин Гастелум', 'Крис Кертис', '1.83', '1.94'],\n",
       "       ['Стив Гарсия-младший', 'Шайлан Нурданбек', '2.69', '1.46'],\n",
       "       ['Сэм Хьюз', 'Жаклин Аморим', '2.976', '1.39'],\n",
       "       ['Мишель Уотерсон', 'Луана Пиньейро', '2.43', '1.552'],\n",
       "       ['Синтия Кальвильо', 'Люпита Годинез', '3.14', '1.37'],\n",
       "       ['Роб Фонт', 'Адриан Янез', '2.348', '1.59'],\n",
       "       ['Кевин Холланд', 'Сантьяго Понзиниббио', '1.39', '2.96'],\n",
       "       ['Гилберт Бернс', 'Хорхе Масвидал', '1.18', '4.94'],\n",
       "       ['Алекс Перейра', 'Исраэль Адесаня', '2.18', '1.7']], dtype='<U20')"
      ]
     },
     "execution_count": 7,
     "metadata": {},
     "output_type": "execute_result"
    }
   ],
   "source": [
    "ar = np.concatenate([names, coefs], axis=1)\n",
    "ar "
   ]
  },
  {
   "cell_type": "code",
   "execution_count": 8,
   "id": "47216b6d-b86a-4eae-b817-de9fa42fadd7",
   "metadata": {},
   "outputs": [
    {
     "data": {
      "text/html": [
       "<div>\n",
       "<style scoped>\n",
       "    .dataframe tbody tr th:only-of-type {\n",
       "        vertical-align: middle;\n",
       "    }\n",
       "\n",
       "    .dataframe tbody tr th {\n",
       "        vertical-align: top;\n",
       "    }\n",
       "\n",
       "    .dataframe thead th {\n",
       "        text-align: right;\n",
       "    }\n",
       "</style>\n",
       "<table border=\"1\" class=\"dataframe\">\n",
       "  <thead>\n",
       "    <tr style=\"text-align: right;\">\n",
       "      <th></th>\n",
       "      <th>fighter1</th>\n",
       "      <th>fighter2</th>\n",
       "      <th>coef1</th>\n",
       "      <th>coef2</th>\n",
       "    </tr>\n",
       "  </thead>\n",
       "  <tbody>\n",
       "    <tr>\n",
       "      <th>0</th>\n",
       "      <td>Крис Барнетт</td>\n",
       "      <td>Чейс Шерман</td>\n",
       "      <td>2.748</td>\n",
       "      <td>1.45</td>\n",
       "    </tr>\n",
       "    <tr>\n",
       "      <th>1</th>\n",
       "      <td>Джеральд Миршерт</td>\n",
       "      <td>Джозеф Пайфер</td>\n",
       "      <td>2.464</td>\n",
       "      <td>1.54</td>\n",
       "    </tr>\n",
       "    <tr>\n",
       "      <th>2</th>\n",
       "      <td>Игнасио Багамондес</td>\n",
       "      <td>Николас Мотта</td>\n",
       "      <td>1.372</td>\n",
       "      <td>3.015</td>\n",
       "    </tr>\n",
       "    <tr>\n",
       "      <th>3</th>\n",
       "      <td>Келвин Гастелум</td>\n",
       "      <td>Крис Кертис</td>\n",
       "      <td>1.83</td>\n",
       "      <td>1.94</td>\n",
       "    </tr>\n",
       "    <tr>\n",
       "      <th>4</th>\n",
       "      <td>Стив Гарсия-младший</td>\n",
       "      <td>Шайлан Нурданбек</td>\n",
       "      <td>2.69</td>\n",
       "      <td>1.46</td>\n",
       "    </tr>\n",
       "    <tr>\n",
       "      <th>5</th>\n",
       "      <td>Сэм Хьюз</td>\n",
       "      <td>Жаклин Аморим</td>\n",
       "      <td>2.976</td>\n",
       "      <td>1.39</td>\n",
       "    </tr>\n",
       "    <tr>\n",
       "      <th>6</th>\n",
       "      <td>Мишель Уотерсон</td>\n",
       "      <td>Луана Пиньейро</td>\n",
       "      <td>2.43</td>\n",
       "      <td>1.552</td>\n",
       "    </tr>\n",
       "    <tr>\n",
       "      <th>7</th>\n",
       "      <td>Синтия Кальвильо</td>\n",
       "      <td>Люпита Годинез</td>\n",
       "      <td>3.14</td>\n",
       "      <td>1.37</td>\n",
       "    </tr>\n",
       "    <tr>\n",
       "      <th>8</th>\n",
       "      <td>Роб Фонт</td>\n",
       "      <td>Адриан Янез</td>\n",
       "      <td>2.348</td>\n",
       "      <td>1.59</td>\n",
       "    </tr>\n",
       "    <tr>\n",
       "      <th>9</th>\n",
       "      <td>Кевин Холланд</td>\n",
       "      <td>Сантьяго Понзиниббио</td>\n",
       "      <td>1.39</td>\n",
       "      <td>2.96</td>\n",
       "    </tr>\n",
       "    <tr>\n",
       "      <th>10</th>\n",
       "      <td>Гилберт Бернс</td>\n",
       "      <td>Хорхе Масвидал</td>\n",
       "      <td>1.18</td>\n",
       "      <td>4.94</td>\n",
       "    </tr>\n",
       "    <tr>\n",
       "      <th>11</th>\n",
       "      <td>Алекс Перейра</td>\n",
       "      <td>Исраэль Адесаня</td>\n",
       "      <td>2.18</td>\n",
       "      <td>1.7</td>\n",
       "    </tr>\n",
       "  </tbody>\n",
       "</table>\n",
       "</div>"
      ],
      "text/plain": [
       "               fighter1              fighter2  coef1  coef2\n",
       "0          Крис Барнетт           Чейс Шерман  2.748   1.45\n",
       "1      Джеральд Миршерт         Джозеф Пайфер  2.464   1.54\n",
       "2    Игнасио Багамондес         Николас Мотта  1.372  3.015\n",
       "3       Келвин Гастелум           Крис Кертис   1.83   1.94\n",
       "4   Стив Гарсия-младший      Шайлан Нурданбек   2.69   1.46\n",
       "5              Сэм Хьюз         Жаклин Аморим  2.976   1.39\n",
       "6       Мишель Уотерсон        Луана Пиньейро   2.43  1.552\n",
       "7      Синтия Кальвильо        Люпита Годинез   3.14   1.37\n",
       "8              Роб Фонт           Адриан Янез  2.348   1.59\n",
       "9         Кевин Холланд  Сантьяго Понзиниббио   1.39   2.96\n",
       "10        Гилберт Бернс        Хорхе Масвидал   1.18   4.94\n",
       "11        Алекс Перейра       Исраэль Адесаня   2.18    1.7"
      ]
     },
     "execution_count": 8,
     "metadata": {},
     "output_type": "execute_result"
    }
   ],
   "source": [
    "\n",
    "fighter_coef_df = pd.DataFrame(ar, columns=['fighter1', 'fighter2', 'coef1', 'coef2'])\n",
    "fighter_coef_df"
   ]
  },
  {
   "cell_type": "code",
   "execution_count": 9,
   "id": "93b49944-ced7-4569-a9b9-a009e4374bd8",
   "metadata": {},
   "outputs": [],
   "source": [
    "df_prev = pd.read_excel('coefs.xlsx')\n",
    "# df_prev = pd.read_excel('coefs_ufc268.xlsx')\n",
    "\n"
   ]
  },
  {
   "cell_type": "code",
   "execution_count": 10,
   "id": "eabcef16-280a-477c-962d-b76137ca25f3",
   "metadata": {},
   "outputs": [],
   "source": [
    "df_all = pd.concat([df_prev, fighter_coef_df], ignore_index=True)\n",
    "df_all['coef1'] = df_all['coef1'].astype(float)\n",
    "df_all['coef2'] = df_all['coef2'].astype(float)\n"
   ]
  },
  {
   "cell_type": "code",
   "execution_count": 11,
   "id": "6dcf2434-a577-4845-b4f4-019981e5f4f3",
   "metadata": {},
   "outputs": [
    {
     "data": {
      "text/html": [
       "<div>\n",
       "<style scoped>\n",
       "    .dataframe tbody tr th:only-of-type {\n",
       "        vertical-align: middle;\n",
       "    }\n",
       "\n",
       "    .dataframe tbody tr th {\n",
       "        vertical-align: top;\n",
       "    }\n",
       "\n",
       "    .dataframe thead th {\n",
       "        text-align: right;\n",
       "    }\n",
       "</style>\n",
       "<table border=\"1\" class=\"dataframe\">\n",
       "  <thead>\n",
       "    <tr style=\"text-align: right;\">\n",
       "      <th></th>\n",
       "      <th>fighter1</th>\n",
       "      <th>fighter2</th>\n",
       "      <th>coef1</th>\n",
       "      <th>coef2</th>\n",
       "    </tr>\n",
       "  </thead>\n",
       "  <tbody>\n",
       "    <tr>\n",
       "      <th>0</th>\n",
       "      <td>Карлос Вергара</td>\n",
       "      <td>Оде Осборн</td>\n",
       "      <td>2.600</td>\n",
       "      <td>1.52</td>\n",
       "    </tr>\n",
       "    <tr>\n",
       "      <th>1</th>\n",
       "      <td>Мелсик Багдасарян</td>\n",
       "      <td>Бруно Соуза</td>\n",
       "      <td>1.280</td>\n",
       "      <td>3.85</td>\n",
       "    </tr>\n",
       "    <tr>\n",
       "      <th>2</th>\n",
       "      <td>Дастин Джакоби</td>\n",
       "      <td>Джон Аллан Арте</td>\n",
       "      <td>1.250</td>\n",
       "      <td>4.15</td>\n",
       "    </tr>\n",
       "    <tr>\n",
       "      <th>3</th>\n",
       "      <td>Джан Вилланте</td>\n",
       "      <td>Крис Барнетт</td>\n",
       "      <td>1.780</td>\n",
       "      <td>2.08</td>\n",
       "    </tr>\n",
       "    <tr>\n",
       "      <th>4</th>\n",
       "      <td>Иан Гарри</td>\n",
       "      <td>Джордан Уильямс</td>\n",
       "      <td>1.250</td>\n",
       "      <td>4.10</td>\n",
       "    </tr>\n",
       "    <tr>\n",
       "      <th>...</th>\n",
       "      <td>...</td>\n",
       "      <td>...</td>\n",
       "      <td>...</td>\n",
       "      <td>...</td>\n",
       "    </tr>\n",
       "    <tr>\n",
       "      <th>451</th>\n",
       "      <td>Синтия Кальвильо</td>\n",
       "      <td>Люпита Годинез</td>\n",
       "      <td>3.140</td>\n",
       "      <td>1.37</td>\n",
       "    </tr>\n",
       "    <tr>\n",
       "      <th>452</th>\n",
       "      <td>Роб Фонт</td>\n",
       "      <td>Адриан Янез</td>\n",
       "      <td>2.348</td>\n",
       "      <td>1.59</td>\n",
       "    </tr>\n",
       "    <tr>\n",
       "      <th>453</th>\n",
       "      <td>Кевин Холланд</td>\n",
       "      <td>Сантьяго Понзиниббио</td>\n",
       "      <td>1.390</td>\n",
       "      <td>2.96</td>\n",
       "    </tr>\n",
       "    <tr>\n",
       "      <th>454</th>\n",
       "      <td>Гилберт Бернс</td>\n",
       "      <td>Хорхе Масвидал</td>\n",
       "      <td>1.180</td>\n",
       "      <td>4.94</td>\n",
       "    </tr>\n",
       "    <tr>\n",
       "      <th>455</th>\n",
       "      <td>Алекс Перейра</td>\n",
       "      <td>Исраэль Адесаня</td>\n",
       "      <td>2.180</td>\n",
       "      <td>1.70</td>\n",
       "    </tr>\n",
       "  </tbody>\n",
       "</table>\n",
       "<p>456 rows × 4 columns</p>\n",
       "</div>"
      ],
      "text/plain": [
       "              fighter1              fighter2  coef1  coef2\n",
       "0       Карлос Вергара            Оде Осборн  2.600   1.52\n",
       "1    Мелсик Багдасарян           Бруно Соуза  1.280   3.85\n",
       "2       Дастин Джакоби       Джон Аллан Арте  1.250   4.15\n",
       "3        Джан Вилланте          Крис Барнетт  1.780   2.08\n",
       "4            Иан Гарри       Джордан Уильямс  1.250   4.10\n",
       "..                 ...                   ...    ...    ...\n",
       "451   Синтия Кальвильо        Люпита Годинез  3.140   1.37\n",
       "452           Роб Фонт           Адриан Янез  2.348   1.59\n",
       "453      Кевин Холланд  Сантьяго Понзиниббио  1.390   2.96\n",
       "454      Гилберт Бернс        Хорхе Масвидал  1.180   4.94\n",
       "455      Алекс Перейра       Исраэль Адесаня  2.180   1.70\n",
       "\n",
       "[456 rows x 4 columns]"
      ]
     },
     "execution_count": 11,
     "metadata": {},
     "output_type": "execute_result"
    }
   ],
   "source": [
    "df_all\n",
    "# нули и пустоты удалить потом"
   ]
  },
  {
   "cell_type": "code",
   "execution_count": 12,
   "id": "e55ddb99-3462-41e1-9963-86a28f764acd",
   "metadata": {},
   "outputs": [],
   "source": [
    "df_all.to_excel('coefs.xlsx', index=False)"
   ]
  },
  {
   "cell_type": "code",
   "execution_count": 13,
   "id": "ad21ea2e-f934-4ba9-a9d6-26587da9b330",
   "metadata": {},
   "outputs": [],
   "source": [
    "browser.quit()"
   ]
  },
  {
   "cell_type": "code",
   "execution_count": null,
   "id": "7a49d785-6d1b-427b-a25f-1e8af0cad08e",
   "metadata": {},
   "outputs": [],
   "source": []
  }
 ],
 "metadata": {
  "kernelspec": {
   "display_name": "Python 3",
   "language": "python",
   "name": "python3"
  },
  "language_info": {
   "codemirror_mode": {
    "name": "ipython",
    "version": 3
   },
   "file_extension": ".py",
   "mimetype": "text/x-python",
   "name": "python",
   "nbconvert_exporter": "python",
   "pygments_lexer": "ipython3",
   "version": "3.7.10"
  }
 },
 "nbformat": 4,
 "nbformat_minor": 5
}
