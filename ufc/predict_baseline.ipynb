{
 "cells": [
  {
   "cell_type": "code",
   "execution_count": 1,
   "id": "20693421-72d9-436c-820d-471e9ac10045",
   "metadata": {},
   "outputs": [],
   "source": [
    "from sklearn.metrics import classification_report\n",
    "import re\n",
    "import joblib\n",
    "import pandas as pd\n",
    "import numpy as np\n",
    "import matplotlib.pyplot as plt\n",
    "import seaborn as sns\n",
    "sns.set()"
   ]
  },
  {
   "cell_type": "code",
   "execution_count": 3,
   "id": "140086fb-ef54-4b38-9871-0502aa1001f5",
   "metadata": {},
   "outputs": [],
   "source": [
    "df_feat = joblib.load('df_feat_med.pkl')"
   ]
  },
  {
   "cell_type": "code",
   "execution_count": 4,
   "id": "b9ad9f93-4cb3-497c-b6ce-983012bc1750",
   "metadata": {},
   "outputs": [],
   "source": [
    "sign_cols = [it for it in df_feat.columns if re.search('_stat_rol_sub', it) or it in ['Fighter', 'Opponent', 'Date', 'Result'] ]\n",
    "X = df_feat[sign_cols]\n",
    "X_tr = X[X['Date']<pd.Timestamp('2021-09-01')].drop(['Fighter', 'Opponent', 'Date', 'Result'], axis=1)\n",
    "X_ts = X[X['Date']>=pd.Timestamp('2021-09-01')].drop(['Fighter', 'Opponent', 'Date', 'Result'], axis=1)\n",
    "\n",
    "y_tr = X.loc[X['Date']<pd.Timestamp('2021-09-01'), 'Result']\n",
    "y_ts = X.loc[X['Date']>=pd.Timestamp('2021-09-01'), 'Result']"
   ]
  },
  {
   "cell_type": "code",
   "execution_count": 7,
   "id": "586a05a4-fd86-42a6-9836-0dada4ddcf77",
   "metadata": {},
   "outputs": [],
   "source": [
    "y_p_tr = (X_tr['wrest_w_stat_rol_sub']>0).astype(int)\n",
    "y_p_ts = (X_ts['wrest_w_stat_rol_sub']>0).astype(int)"
   ]
  },
  {
   "cell_type": "code",
   "execution_count": 9,
   "id": "fd45c20a-4b19-490d-aad1-a162dbb86006",
   "metadata": {},
   "outputs": [
    {
     "name": "stdout",
     "output_type": "stream",
     "text": [
      "              precision    recall  f1-score   support\n",
      "\n",
      "           0       0.51      0.63      0.56      2464\n",
      "           1       0.52      0.40      0.45      2464\n",
      "\n",
      "    accuracy                           0.51      4928\n",
      "   macro avg       0.51      0.51      0.51      4928\n",
      "weighted avg       0.51      0.51      0.51      4928\n",
      "\n"
     ]
    }
   ],
   "source": [
    "print(classification_report(y_tr, y_p_tr))"
   ]
  },
  {
   "cell_type": "code",
   "execution_count": 10,
   "id": "ed3684bd-bcce-4714-a561-a2f45e98e4a0",
   "metadata": {},
   "outputs": [
    {
     "name": "stdout",
     "output_type": "stream",
     "text": [
      "              precision    recall  f1-score   support\n",
      "\n",
      "           0       0.53      0.73      0.61        48\n",
      "           1       0.57      0.35      0.44        48\n",
      "\n",
      "    accuracy                           0.54        96\n",
      "   macro avg       0.55      0.54      0.52        96\n",
      "weighted avg       0.55      0.54      0.52        96\n",
      "\n"
     ]
    }
   ],
   "source": [
    "print(classification_report(y_ts, y_p_ts))"
   ]
  },
  {
   "cell_type": "markdown",
   "id": "ef005dec-80ba-4cab-aa58-df42c4e25802",
   "metadata": {},
   "source": [
    "# Equation of stavka"
   ]
  },
  {
   "cell_type": "markdown",
   "id": "13625afe-9bd5-4535-ae37-a5f39657800e",
   "metadata": {},
   "source": [
    "$$ (k-1)*x*p > x*(1-p) => p>\\frac{1}{k} $$"
   ]
  },
  {
   "cell_type": "code",
   "execution_count": null,
   "id": "1c8b0fba-b4a8-4641-b21d-09bc34d16080",
   "metadata": {},
   "outputs": [],
   "source": []
  }
 ],
 "metadata": {
  "kernelspec": {
   "display_name": "Python 3",
   "language": "python",
   "name": "python3"
  },
  "language_info": {
   "codemirror_mode": {
    "name": "ipython",
    "version": 3
   },
   "file_extension": ".py",
   "mimetype": "text/x-python",
   "name": "python",
   "nbconvert_exporter": "python",
   "pygments_lexer": "ipython3",
   "version": "3.7.10"
  }
 },
 "nbformat": 4,
 "nbformat_minor": 5
}
