{
 "cells": [
  {
   "cell_type": "code",
   "execution_count": 1,
   "id": "ac240427-3dc4-44eb-8fe5-9c8e6500a8e9",
   "metadata": {},
   "outputs": [],
   "source": [
    "from bs4 import BeautifulSoup\n",
    "import requests\n",
    "import random\n",
    "import time\n",
    "import numpy as np\n",
    "import pandas as pd\n",
    "import re"
   ]
  },
  {
   "cell_type": "code",
   "execution_count": 2,
   "id": "69c26b68-787c-4f43-b14b-cedc73a79f96",
   "metadata": {
    "tags": []
   },
   "outputs": [],
   "source": [
    "from selenium import webdriver\n",
    "browser = webdriver.Firefox()"
   ]
  },
  {
   "cell_type": "code",
   "execution_count": 4,
   "id": "953a601a-f6d0-4e72-a296-6c60d5c0f95c",
   "metadata": {},
   "outputs": [],
   "source": [
    "browser.get('http://127.0.0.1:8000/')\n",
    "html = browser.page_source\n"
   ]
  },
  {
   "cell_type": "markdown",
   "id": "76112f80-865a-4af4-bcfe-7af3c35166ed",
   "metadata": {},
   "source": [
    "# Атрибуты "
   ]
  },
  {
   "cell_type": "code",
   "execution_count": 5,
   "id": "9be6e0c1-419c-44b7-94ca-47887aa1024c",
   "metadata": {},
   "outputs": [
    {
     "data": {
      "text/plain": [
       "'Менеджер задач'"
      ]
     },
     "execution_count": 5,
     "metadata": {},
     "output_type": "execute_result"
    }
   ],
   "source": [
    "browser.title"
   ]
  },
  {
   "cell_type": "markdown",
   "id": "66271dac-4dfc-4db3-a863-41f7aceb8878",
   "metadata": {},
   "source": [
    "# Методы"
   ]
  },
  {
   "cell_type": "markdown",
   "id": "da72eaab-e20c-4e0f-97dd-16ecb24fb585",
   "metadata": {},
   "source": [
    "## find_element_by_tag_name "
   ]
  },
  {
   "cell_type": "code",
   "execution_count": 8,
   "id": "23713611-e27c-4759-973b-5d8f32da96c6",
   "metadata": {},
   "outputs": [
    {
     "name": "stderr",
     "output_type": "stream",
     "text": [
      "C:\\tools\\Anaconda3\\envs\\snab\\lib\\site-packages\\ipykernel_launcher.py:1: DeprecationWarning: find_element_by_* commands are deprecated. Please use find_element() instead\n",
      "  \"\"\"Entry point for launching an IPython kernel.\n"
     ]
    }
   ],
   "source": [
    "div_el = browser.find_element_by_tag_name('input')"
   ]
  },
  {
   "cell_type": "code",
   "execution_count": 9,
   "id": "93a1a7d0-5178-4356-8a88-ca63adb5f434",
   "metadata": {},
   "outputs": [
    {
     "data": {
      "text/plain": [
       "'enter a new item'"
      ]
     },
     "execution_count": 9,
     "metadata": {},
     "output_type": "execute_result"
    }
   ],
   "source": [
    "div_el.get_attribute('placeholder')"
   ]
  },
  {
   "cell_type": "markdown",
   "id": "c39e7a97-5e05-4482-ae47-21ec002f772d",
   "metadata": {},
   "source": [
    "## find_elements_by_tag_name"
   ]
  },
  {
   "cell_type": "code",
   "execution_count": 10,
   "id": "202cdd74-4e40-4cbc-afe4-be6234aced81",
   "metadata": {},
   "outputs": [
    {
     "name": "stderr",
     "output_type": "stream",
     "text": [
      "C:\\tools\\Anaconda3\\envs\\snab\\lib\\site-packages\\ipykernel_launcher.py:1: DeprecationWarning: find_element_by_* commands are deprecated. Please use find_element() instead\n",
      "  \"\"\"Entry point for launching an IPython kernel.\n"
     ]
    },
    {
     "data": {
      "text/plain": [
       "'temp1'"
      ]
     },
     "execution_count": 10,
     "metadata": {},
     "output_type": "execute_result"
    }
   ],
   "source": [
    "div_el = browser.find_element_by_tag_name('div')\n",
    "div_el.text"
   ]
  },
  {
   "cell_type": "code",
   "execution_count": 11,
   "id": "bf39412e-ae4f-4538-93e5-3ed7bb46c333",
   "metadata": {},
   "outputs": [
    {
     "name": "stderr",
     "output_type": "stream",
     "text": [
      "C:\\tools\\Anaconda3\\envs\\snab\\lib\\site-packages\\ipykernel_launcher.py:1: DeprecationWarning: find_elements_by_* commands are deprecated. Please use find_elements() instead\n",
      "  \"\"\"Entry point for launching an IPython kernel.\n"
     ]
    },
    {
     "data": {
      "text/plain": [
       "['temp1', 'temp2']"
      ]
     },
     "execution_count": 11,
     "metadata": {},
     "output_type": "execute_result"
    }
   ],
   "source": [
    "div_els = browser.find_elements_by_tag_name('div')\n",
    "[div_el.text for div_el in div_els]"
   ]
  },
  {
   "cell_type": "markdown",
   "id": "bb27e801-98b3-4b3c-af98-c186c3b917da",
   "metadata": {},
   "source": [
    "## find_element_by_id"
   ]
  },
  {
   "cell_type": "code",
   "execution_count": 16,
   "id": "ca9ba629-772f-4d48-9384-b6585b757ace",
   "metadata": {},
   "outputs": [
    {
     "name": "stderr",
     "output_type": "stream",
     "text": [
      "C:\\tools\\Anaconda3\\envs\\snab\\lib\\site-packages\\ipykernel_launcher.py:1: DeprecationWarning: find_element_by_* commands are deprecated. Please use find_element() instead\n",
      "  \"\"\"Entry point for launching an IPython kernel.\n"
     ]
    }
   ],
   "source": [
    "div_el = browser.find_element_by_id('new_item')"
   ]
  },
  {
   "cell_type": "code",
   "execution_count": 17,
   "id": "0dce3df9-eabe-47aa-b5fb-c08cf8a39a97",
   "metadata": {},
   "outputs": [
    {
     "data": {
      "text/plain": [
       "'enter a new item'"
      ]
     },
     "execution_count": 17,
     "metadata": {},
     "output_type": "execute_result"
    }
   ],
   "source": [
    "div_el.get_attribute('placeholder')"
   ]
  },
  {
   "cell_type": "code",
   "execution_count": 18,
   "id": "d3fb1130-fabc-4aa4-b3a8-5be2c809f590",
   "metadata": {},
   "outputs": [],
   "source": [
    "from selenium.webdriver.common.keys import Keys"
   ]
  },
  {
   "cell_type": "code",
   "execution_count": 19,
   "id": "781f7a96-ff45-4b00-838d-aff3e18ff526",
   "metadata": {},
   "outputs": [],
   "source": [
    "div_el.send_keys('Проверить проекты')"
   ]
  },
  {
   "cell_type": "code",
   "execution_count": 5,
   "id": "7a49d785-6d1b-427b-a25f-1e8af0cad08e",
   "metadata": {},
   "outputs": [],
   "source": [
    "browser.quit()"
   ]
  },
  {
   "cell_type": "markdown",
   "id": "e433090a-39eb-422f-82b1-f8544803c966",
   "metadata": {},
   "source": [
    "# Installing "
   ]
  },
  {
   "cell_type": "markdown",
   "id": "754d67cf-a725-40c4-9b25-8b0e577a4abc",
   "metadata": {},
   "source": [
    "- Add directory with geckodriver  to path (https://stackoverflow.com/questions/40208051/selenium-using-python-geckodriver-executable-needs-to-be-in-path)\n",
    "- driver manager (https://bobbyhadz.com/blog/python-message-geckodriver-executable-needs-to-be-in-path)"
   ]
  }
 ],
 "metadata": {
  "kernelspec": {
   "display_name": "Python 3",
   "language": "python",
   "name": "python3"
  },
  "language_info": {
   "codemirror_mode": {
    "name": "ipython",
    "version": 3
   },
   "file_extension": ".py",
   "mimetype": "text/x-python",
   "name": "python",
   "nbconvert_exporter": "python",
   "pygments_lexer": "ipython3",
   "version": "3.7.10"
  }
 },
 "nbformat": 4,
 "nbformat_minor": 5
}
